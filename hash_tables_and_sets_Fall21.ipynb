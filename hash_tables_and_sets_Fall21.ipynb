{
  "cells": [
    {
      "cell_type": "markdown",
      "metadata": {
        "id": "9j9Ynui0Gl4X"
      },
      "source": [
        "<b><font size=\"+3\">CS 2302 Data Structures</font></b>\n",
        "\n",
        "**Hash Tables and Sets**\n",
        "\n",
        "**Author:** [Olac Fuentes](http://www.cs.utep.edu/ofuentes/)<br>\n",
        "**Last modified:** 2021/10/7<br>\n",
        "Please report errors to me. "
      ]
    },
    {
      "cell_type": "markdown",
      "metadata": {
        "id": "KVzI4R3rBeOo"
      },
      "source": [
        "# **Hash Tables**"
      ]
    },
    {
      "cell_type": "markdown",
      "metadata": {
        "id": "aiiQK8QuD4QI"
      },
      "source": [
        "How long does it take to determine if an item belongs to a group of items? \n",
        "\n",
        "*   O(n) if we use a list.\n",
        "*   O(log n) if we use a binary search tree or a B-tree.  \n",
        "\n",
        "We can perform this operation in O(1) time using a **hash table**."
      ]
    },
    {
      "cell_type": "markdown",
      "metadata": {
        "id": "FDkogetI4VOh"
      },
      "source": [
        "How does a hash table work?\n",
        "\n",
        "It uses a list of lists (called buckets) and a hash function *h*. \n",
        "\n",
        "Given item *k*, *h(k)* is the index of the bucket where *k* should be stored in the list.\n",
        "\n",
        "If *k* is restricted to be an integer, a simple hash function is *h(k) = k%table_size*\n",
        "\n",
        "Thus for a table of size 9, item 10 would be stored in bucket 1 (since 10%9=1), item 23 would be strored in bucket 5, and items 9 and 18 would be stored in bucket 0. \n",
        "\n",
        "Thus, to determine if *k* is in table *H*, we go directly to bucket *h(k)*. If *k* is not in that bucket, it means that it is not in the table. \n",
        "\n",
        "Since hash tables are designed to ensure buckets are short (usually 0 or 1 items), searching the appropriate bucket can be assumed to take O(1) time. \n"
      ]
    },
    {
      "cell_type": "markdown",
      "metadata": {
        "id": "q41kLuOk61d5"
      },
      "source": [
        "The following cell illustrates the implementation of a simple hash table."
      ]
    },
    {
      "cell_type": "code",
      "execution_count": null,
      "metadata": {
        "id": "VzOjINfi8GiF"
      },
      "outputs": [],
      "source": [
        "class HashTableChain:\n",
        "    def __init__(self,n):\n",
        "        # Create table with n buckets\n",
        "        self.bucket = [[] for i in range(n)]  # Each of the n buckets is initially an empty list\n",
        "        self.size = n\n",
        "\n",
        "    def h(self, key):  # Returns the index of the bucket where key must be stored\n",
        "        return key%self.size\n",
        "\n",
        "    def insert(self,key):   # Inserts ket in appropriate bucket in the table.\n",
        "        if not self.in_table(key): # Since we don't allow duplicates, we only insert if key is not in table already\n",
        "          b = self.h(key)\n",
        "          self.bucket[b].append(key)\n",
        "\n",
        "    def remove(self,key):   # Inserts ket in appropriate bucket in the table.\n",
        "        b = self.h(key)\n",
        "        try:\n",
        "            self.bucket[b].remove(key)\n",
        "        except:\n",
        "            print('Error: trying to remove an intem that is not in the table')\n",
        "\n",
        "    def in_table(self,key): # Returns True if key is in the table\n",
        "        b = self.h(key)\n",
        "        return key in self.bucket[b]\n",
        "\n",
        "    def print_table(self):\n",
        "        print('Table contents:')\n",
        "        for i in range(len(self.bucket)):\n",
        "            print('bucket',i,':',self.bucket[i])\n"
      ]
    },
    {
      "cell_type": "markdown",
      "metadata": {
        "id": "LgSEy3nB8ZQ-"
      },
      "source": [
        "This creates a hash table with 7 buckets."
      ]
    },
    {
      "cell_type": "code",
      "execution_count": null,
      "metadata": {
        "id": "HOSn5EZW8vY9"
      },
      "outputs": [],
      "source": [
        "H = HashTableChain(7)"
      ]
    },
    {
      "cell_type": "markdown",
      "metadata": {
        "id": "12rCDXGZ8ea_"
      },
      "source": [
        "We can print the table's contents:"
      ]
    },
    {
      "cell_type": "code",
      "execution_count": null,
      "metadata": {
        "id": "0nnq5kQ38s1H"
      },
      "outputs": [],
      "source": [
        "H.print_table()"
      ]
    },
    {
      "cell_type": "markdown",
      "metadata": {
        "id": "cTJI6WEt84qZ"
      },
      "source": [
        "The hash function for this table is h(k) = k%7.\n",
        "\n",
        "Where would item 10 be stored? - in bucket 10%7, = 3 \n",
        "\n",
        "H.insert(10) will append 10 to H.bucket[3], which is currently empty. "
      ]
    },
    {
      "cell_type": "code",
      "execution_count": null,
      "metadata": {
        "id": "ujsryrgO9U89"
      },
      "outputs": [],
      "source": [
        "H.insert(10)\n",
        "H.print_table()"
      ]
    },
    {
      "cell_type": "markdown",
      "metadata": {
        "id": "-MUNq7GA9s2c"
      },
      "source": [
        "We can check to see if 10 is in the table. To do this, we need to search on bucket 3 only, not in the whole table. See function *in_table()*."
      ]
    },
    {
      "cell_type": "code",
      "execution_count": null,
      "metadata": {
        "id": "arQY89gg9yCL"
      },
      "outputs": [],
      "source": [
        "H.in_table(10)"
      ]
    },
    {
      "cell_type": "code",
      "execution_count": null,
      "metadata": {
        "id": "w5JFx65r-A9b"
      },
      "outputs": [],
      "source": [
        "H.in_table(15)"
      ]
    },
    {
      "cell_type": "markdown",
      "metadata": {
        "id": "XlFw2I2t3_94"
      },
      "source": [
        "Let's set a few more operations"
      ]
    },
    {
      "cell_type": "code",
      "execution_count": null,
      "metadata": {
        "id": "wKP60QKQ-Eq0"
      },
      "outputs": [],
      "source": [
        "L = [15, 27, 14, 10, 8, 7]\n",
        "\n",
        "H = HashTableChain(7)\n",
        "for i in L:\n",
        "    H.insert(i)\n",
        "\n",
        "H.print_table()"
      ]
    },
    {
      "cell_type": "markdown",
      "metadata": {
        "id": "Kv7EBnE2-peL"
      },
      "source": [
        "We can check table membership for a few items:"
      ]
    },
    {
      "cell_type": "code",
      "execution_count": null,
      "metadata": {
        "id": "wqhGBZp1-XcZ"
      },
      "outputs": [],
      "source": [
        "for i in [1, 5, 7, 8, 10, 12]:\n",
        "    print(i,H.in_table(i))"
      ]
    },
    {
      "cell_type": "markdown",
      "metadata": {
        "id": "o2peiMd31EJz"
      },
      "source": [
        "# **Sets**"
      ]
    },
    {
      "cell_type": "markdown",
      "metadata": {
        "id": "0uq1x3QfGBon"
      },
      "source": [
        "A set is an unordered collection data type that is iterable, mutable and has no duplicate elements. Python’s set class represents the mathematical notion of a set.\n",
        "\n",
        "The main advantage of sets over lists is that membership queries can be performed in O(1) time instead of O(n) using the **hash table** data structure described above."
      ]
    },
    {
      "cell_type": "markdown",
      "metadata": {
        "id": "y8jjEWjfGbVS"
      },
      "source": [
        "Let's compare running times of membership queries for a list L and a set S, both containing the same elements."
      ]
    },
    {
      "cell_type": "markdown",
      "metadata": {
        "id": "bE0dxubcG1hc"
      },
      "source": [
        "First we'll build a list and a set with the integers from 0 to n in random order. "
      ]
    },
    {
      "cell_type": "code",
      "execution_count": null,
      "metadata": {
        "id": "D1QadnjmGszW"
      },
      "outputs": [],
      "source": [
        "import numpy as np\n",
        "\n",
        "n = 1000\n",
        "L = list(np.random.permutation(n))\n",
        "S = set(L)"
      ]
    },
    {
      "cell_type": "markdown",
      "metadata": {
        "id": "L2Ek8NtZGzSS"
      },
      "source": [
        "Now we'll perform a membership query for each of the integers in the 0 to 2n range. Thus, half the queries will return True, and half of them will return False - the results of the queries are not relevant here; we are interested in comparing running times."
      ]
    },
    {
      "cell_type": "code",
      "execution_count": null,
      "metadata": {
        "id": "fs7VcKjeDTOF"
      },
      "outputs": [],
      "source": [
        "import time\n",
        "\n",
        "start = time.time()\n",
        "for i in range(2*n):\n",
        "  t = i in L # Check membership and store in variable\n",
        "elapsed_time1 = time.time() - start\n",
        "print('elapsed time using list', elapsed_time1,'secs')\n",
        "\n",
        "start = time.time()\n",
        "for i in range(2*n):\n",
        "  t = i in S  # Check membership and store in variable\n",
        "elapsed_time2 = time.time() - start\n",
        "print('elapsed time using set', elapsed_time2,'secs')\n",
        "\n",
        "print('ratio',elapsed_time1/elapsed_time2)"
      ]
    },
    {
      "cell_type": "markdown",
      "metadata": {
        "id": "0ND4rB91H4Up"
      },
      "source": [
        "As with lists, sets can have elements of any type (string, integer, float, boolean)."
      ]
    },
    {
      "cell_type": "code",
      "execution_count": null,
      "metadata": {
        "id": "J5su2inaH-bD"
      },
      "outputs": [],
      "source": [
        "S = set(['CS',2302,3.1416,True])"
      ]
    },
    {
      "cell_type": "markdown",
      "metadata": {
        "id": "U2LzazS8ITpc"
      },
      "source": [
        "## **Set operations**"
      ]
    },
    {
      "cell_type": "markdown",
      "metadata": {
        "id": "fVVa_z7RJy5f"
      },
      "source": [
        "### Operations involving one set"
      ]
    },
    {
      "cell_type": "code",
      "execution_count": null,
      "metadata": {
        "id": "jr4sZaPqJD9H"
      },
      "outputs": [],
      "source": [
        "S =  set(['red','green','blue'])"
      ]
    },
    {
      "cell_type": "markdown",
      "metadata": {
        "id": "fRnnXAy-Jj5O"
      },
      "source": [
        "Length"
      ]
    },
    {
      "cell_type": "code",
      "execution_count": null,
      "metadata": {
        "id": "VCDZafH_Jm2W"
      },
      "outputs": [],
      "source": [
        "len(S)"
      ]
    },
    {
      "cell_type": "markdown",
      "metadata": {
        "id": "q52uybcfQCFT"
      },
      "source": [
        "Creating an empty set"
      ]
    },
    {
      "cell_type": "code",
      "execution_count": null,
      "metadata": {
        "id": "Y_zorduCQBdw"
      },
      "outputs": [],
      "source": [
        "S = set()\n",
        "len(S)"
      ]
    },
    {
      "cell_type": "markdown",
      "metadata": {
        "id": "3zbldH_nP34I"
      },
      "source": [
        "Adding an element to a set"
      ]
    },
    {
      "cell_type": "code",
      "execution_count": null,
      "metadata": {
        "id": "rvqPmnRxP59g"
      },
      "outputs": [],
      "source": [
        "S = set()\n",
        "for i in range(5):\n",
        "  S.add(i)\n",
        "  print(S)\n",
        "len(S)"
      ]
    },
    {
      "cell_type": "markdown",
      "metadata": {
        "id": "QQkZqQjMQcvs"
      },
      "source": [
        "If we try to add an element that is already in the set, the set doesn't change"
      ]
    },
    {
      "cell_type": "code",
      "execution_count": null,
      "metadata": {
        "id": "MkhZnMzyQZNN"
      },
      "outputs": [],
      "source": [
        "print(S)\n",
        "S.add(3)\n",
        "print(S)"
      ]
    },
    {
      "cell_type": "markdown",
      "metadata": {
        "id": "Z9qSTM6Z5QSZ"
      },
      "source": [
        "Notice that sets are not subscriptable, since they are unordered collections. See below:"
      ]
    },
    {
      "cell_type": "code",
      "execution_count": null,
      "metadata": {
        "id": "CNmaJaHi7W8R"
      },
      "outputs": [],
      "source": [
        "print(S[0])"
      ]
    },
    {
      "cell_type": "markdown",
      "metadata": {
        "id": "x73Vwxm5juL5"
      },
      "source": [
        "However, can iterate over the members of a set using a for loop without indexing"
      ]
    },
    {
      "cell_type": "code",
      "execution_count": null,
      "metadata": {
        "id": "kUOjZxouj0Iq"
      },
      "outputs": [],
      "source": [
        "L = [1,2,3,4,5]\n",
        "S=  set(L)\n",
        "for s in S:\n",
        "  print(s)"
      ]
    },
    {
      "cell_type": "markdown",
      "metadata": {
        "id": "dD4Bzz5tRAuX"
      },
      "source": [
        "Removing an element from a set"
      ]
    },
    {
      "cell_type": "code",
      "execution_count": 1,
      "metadata": {
        "id": "CuQVzRScRE2K"
      },
      "outputs": [
        {
          "ename": "NameError",
          "evalue": "name 'np' is not defined",
          "output_type": "error",
          "traceback": [
            "\u001b[1;31m---------------------------------------------------------------------------\u001b[0m",
            "\u001b[1;31mNameError\u001b[0m                                 Traceback (most recent call last)",
            "\u001b[1;32m~\\AppData\\Local\\Temp/ipykernel_23284/3676264433.py\u001b[0m in \u001b[0;36m<module>\u001b[1;34m\u001b[0m\n\u001b[1;32m----> 1\u001b[1;33m \u001b[0mS\u001b[0m \u001b[1;33m=\u001b[0m \u001b[0mset\u001b[0m\u001b[1;33m(\u001b[0m\u001b[0mnp\u001b[0m\u001b[1;33m.\u001b[0m\u001b[0marange\u001b[0m\u001b[1;33m(\u001b[0m\u001b[1;36m5\u001b[0m\u001b[1;33m)\u001b[0m\u001b[1;33m)\u001b[0m\u001b[1;33m\u001b[0m\u001b[1;33m\u001b[0m\u001b[0m\n\u001b[0m\u001b[0;32m      2\u001b[0m \u001b[1;32mfor\u001b[0m \u001b[0mi\u001b[0m \u001b[1;32min\u001b[0m \u001b[0mrange\u001b[0m\u001b[1;33m(\u001b[0m\u001b[1;36m5\u001b[0m\u001b[1;33m)\u001b[0m\u001b[1;33m:\u001b[0m\u001b[1;33m\u001b[0m\u001b[1;33m\u001b[0m\u001b[0m\n\u001b[0;32m      3\u001b[0m   \u001b[0mS\u001b[0m\u001b[1;33m.\u001b[0m\u001b[0mremove\u001b[0m\u001b[1;33m(\u001b[0m\u001b[0mi\u001b[0m\u001b[1;33m)\u001b[0m\u001b[1;33m\u001b[0m\u001b[1;33m\u001b[0m\u001b[0m\n\u001b[0;32m      4\u001b[0m   \u001b[0mprint\u001b[0m\u001b[1;33m(\u001b[0m\u001b[0mS\u001b[0m\u001b[1;33m)\u001b[0m\u001b[1;33m\u001b[0m\u001b[1;33m\u001b[0m\u001b[0m\n\u001b[0;32m      5\u001b[0m \u001b[0mlen\u001b[0m\u001b[1;33m(\u001b[0m\u001b[0mS\u001b[0m\u001b[1;33m)\u001b[0m\u001b[1;33m\u001b[0m\u001b[1;33m\u001b[0m\u001b[0m\n",
            "\u001b[1;31mNameError\u001b[0m: name 'np' is not defined"
          ]
        }
      ],
      "source": [
        "S = set(np.arange(5))\n",
        "for i in range(5):\n",
        "  S.remove(i)\n",
        "  print(S)\n",
        "len(S)"
      ]
    },
    {
      "cell_type": "markdown",
      "metadata": {
        "id": "PMEl0Hx1RM4k"
      },
      "source": [
        "If we try to remove an element that is not in the set, we get an error"
      ]
    },
    {
      "cell_type": "code",
      "execution_count": null,
      "metadata": {
        "id": "lyxiOahrRVnk"
      },
      "outputs": [],
      "source": [
        "S = set(np.arange(5))\n",
        "S.remove(8)"
      ]
    },
    {
      "cell_type": "markdown",
      "metadata": {
        "id": "c5CUxHO1JAaK"
      },
      "source": [
        "Membership queries"
      ]
    },
    {
      "cell_type": "code",
      "execution_count": null,
      "metadata": {
        "id": "N3Tt9CGqJNqA"
      },
      "outputs": [],
      "source": [
        "'red' in S"
      ]
    },
    {
      "cell_type": "code",
      "execution_count": null,
      "metadata": {
        "id": "X_aoZ7-2JSjK"
      },
      "outputs": [],
      "source": [
        "'black' in S"
      ]
    },
    {
      "cell_type": "code",
      "execution_count": null,
      "metadata": {
        "id": "9QROYSGUJV_w"
      },
      "outputs": [],
      "source": [
        "0 in S"
      ]
    },
    {
      "cell_type": "code",
      "execution_count": null,
      "metadata": {
        "id": "gHhPKwfJJaAU"
      },
      "outputs": [],
      "source": [
        "'red' not in S"
      ]
    },
    {
      "cell_type": "code",
      "execution_count": null,
      "metadata": {
        "id": "qWXkigjPJdIw"
      },
      "outputs": [],
      "source": [
        "'black' not in S"
      ]
    },
    {
      "cell_type": "markdown",
      "metadata": {
        "id": "8kP5rL5cJrGa"
      },
      "source": [
        "## Operations involving two sets"
      ]
    },
    {
      "cell_type": "code",
      "execution_count": null,
      "metadata": {
        "id": "Q_GePhJ8KByA"
      },
      "outputs": [],
      "source": [
        "S1 = set(['red','orange','brown'])\n",
        "S.isdisjoint(S1)"
      ]
    },
    {
      "cell_type": "code",
      "execution_count": null,
      "metadata": {
        "id": "GOJGBxIQKIvw"
      },
      "outputs": [],
      "source": [
        "S1 = set(['pink','orange','brown'])\n",
        "S.isdisjoint(S1)"
      ]
    },
    {
      "cell_type": "code",
      "execution_count": null,
      "metadata": {
        "id": "8XcDKclwKlVg"
      },
      "outputs": [],
      "source": [
        "S1 = set(['red'])\n",
        "S.issubset(S1)  # Is S a subset of S1? "
      ]
    },
    {
      "cell_type": "code",
      "execution_count": null,
      "metadata": {
        "id": "x6wgXwGRKy_u"
      },
      "outputs": [],
      "source": [
        "S1 = set(['red'])\n",
        "S1.issubset(S)  # Is S1 a subset of S? "
      ]
    },
    {
      "cell_type": "code",
      "execution_count": null,
      "metadata": {
        "id": "wWEh9bbbLFf2"
      },
      "outputs": [],
      "source": [
        "S1 = set(['red'])\n",
        "S.issuperset(S1)  # Is S a superset of S1? "
      ]
    },
    {
      "cell_type": "code",
      "execution_count": null,
      "metadata": {
        "id": "Eu50eAmHLPSz"
      },
      "outputs": [],
      "source": [
        "S1 =  set(['red','green','blue'])\n",
        "S2 = set(['red','orange','brown'])\n",
        "print(S1.union(S2))"
      ]
    },
    {
      "cell_type": "code",
      "execution_count": null,
      "metadata": {
        "id": "U8U_cAGTLZu8"
      },
      "outputs": [],
      "source": [
        "print(S1.intersection(S2))"
      ]
    },
    {
      "cell_type": "code",
      "execution_count": null,
      "metadata": {
        "id": "-kQvTE9qLeU8"
      },
      "outputs": [],
      "source": [
        "print(S1.difference(S2))  # Elements in S1 but not in S2"
      ]
    },
    {
      "cell_type": "code",
      "execution_count": null,
      "metadata": {
        "id": "c286qpjCL4Iv"
      },
      "outputs": [],
      "source": [
        "print(S2.difference(S1))  # Elements in S2 but not in S1"
      ]
    },
    {
      "cell_type": "markdown",
      "metadata": {
        "id": "f5DrlWxqMCkN"
      },
      "source": [
        "Since membership queries, insertions, and deletions  take O(1) time, issubset, issuperset, union, intersection, and difference take O(n) time. "
      ]
    },
    {
      "cell_type": "markdown",
      "metadata": {
        "id": "KRQLIQLq5zv4"
      },
      "source": [
        "Converting a list to a set and back to a list may alter the order of the elements, since sets are unordered collections.  "
      ]
    },
    {
      "cell_type": "code",
      "execution_count": null,
      "metadata": {
        "id": "z-x_hG2C5pPQ"
      },
      "outputs": [],
      "source": [
        "L = ['Monday', 'Tuesday', 'Wednesday']\n",
        "S = set(L)\n",
        "L = list(S)\n",
        "print(L)"
      ]
    },
    {
      "cell_type": "markdown",
      "metadata": {
        "id": "FxoTf7ywMaCH"
      },
      "source": [
        "# Examples"
      ]
    },
    {
      "cell_type": "markdown",
      "metadata": {
        "id": "5a3Q4f1MMcEC"
      },
      "source": [
        "**Example 1.** Write the function missing_item(L) that receives a list L that contains, in random order, all integers from 0 to len(L), except for one, and returns the missing integer.\n"
      ]
    },
    {
      "cell_type": "code",
      "execution_count": null,
      "metadata": {
        "id": "j5UyqxdXMY5x"
      },
      "outputs": [],
      "source": [
        "def missing_item(L):\n",
        "    S = set(L)\n",
        "    Sn = set(np.arange(len(L)+1))\n",
        "    d = list(Sn.difference(S))[0]\n",
        "    return d"
      ]
    },
    {
      "cell_type": "code",
      "execution_count": null,
      "metadata": {
        "id": "d3qGFCtnNmzY"
      },
      "outputs": [],
      "source": [
        "n = 10\n",
        "L = list(np.random.permutation(n)[:-1])\n",
        "print(L)\n",
        "print('missing item', missing_item(L))"
      ]
    },
    {
      "cell_type": "markdown",
      "metadata": {
        "id": "V0bbYAeWOtNQ"
      },
      "source": [
        "**Example 2.** Write the function has_duplicates(L) that receives a list L and determines if it contains duplicate elements.\n"
      ]
    },
    {
      "cell_type": "markdown",
      "metadata": {
        "id": "6sQ0Kt1pO7cQ"
      },
      "source": [
        "Key observation: if we obtain a set from the elements of L, duplicates will be removed. We can thus just compare the length of L and the length of set(L) to determine if duplicates exist. "
      ]
    },
    {
      "cell_type": "code",
      "execution_count": null,
      "metadata": {
        "id": "-DP7yW9ZPLjN"
      },
      "outputs": [],
      "source": [
        "def has_duplicates(L):\n",
        "    return len(set(L)) < len(L)"
      ]
    },
    {
      "cell_type": "code",
      "execution_count": null,
      "metadata": {
        "id": "urQNThSaPVOM"
      },
      "outputs": [],
      "source": [
        "has_duplicates([1,4,2,6,8,9])"
      ]
    },
    {
      "cell_type": "code",
      "execution_count": null,
      "metadata": {
        "id": "Kx_suN-dPaPe"
      },
      "outputs": [],
      "source": [
        "has_duplicates([1,4,2,6,8,9,11,4,5])"
      ]
    },
    {
      "cell_type": "markdown",
      "metadata": {
        "id": "Dw1o3ixhRkME"
      },
      "source": [
        "**Example 3.** Write the function *missing_duplicate(L)* that receives a list *L* where every item appears twice except for one and returns the item that appears only once in *L*.\n",
        "\n",
        "Idea:\n",
        "\n",
        "Traverse *L*, the first time an item appears, we add it to an initially empty set; the second time it appears, we remove it. At the end, the set will contain only the item that appeared only once. "
      ]
    },
    {
      "cell_type": "code",
      "execution_count": null,
      "metadata": {
        "id": "2oWw_5atTEsJ"
      },
      "outputs": [],
      "source": [
        "def missing_duplicate(L):\n",
        "    S = set()\n",
        "    for i in L:\n",
        "      if i not in S:\n",
        "        S.add(i)\n",
        "      else:\n",
        "        S.remove(i)\n",
        "    d = list(S)[0]\n",
        "    return d"
      ]
    },
    {
      "cell_type": "code",
      "execution_count": null,
      "metadata": {
        "id": "v2Sf4QW8Tt5S"
      },
      "outputs": [],
      "source": [
        "missing_duplicate([5,2,4,3,1,0,3,0,2,1,5])"
      ]
    },
    {
      "cell_type": "code",
      "execution_count": null,
      "metadata": {
        "id": "JN6oFf6iRz0o"
      },
      "outputs": [],
      "source": [
        "L = [chr(i) for i in range(ord('a'),ord('m')+1)]\n",
        "L = L+L\n",
        "random.shuffle(L)\n",
        "L.pop()\n",
        "print(L)\n",
        "print('Missing duplicate:', missing_duplicate(L))"
      ]
    },
    {
      "cell_type": "markdown",
      "metadata": {
        "id": "0iMPzoaXWoDX"
      },
      "source": [
        "## Exercises"
      ]
    },
    {
      "cell_type": "markdown",
      "metadata": {
        "id": "ILNO3zx4Xf6P"
      },
      "source": [
        "**Exercise 1.** Write the function appears_in(LL) that receives a list of lists LL and returns a list with the elements that appear in at least one of the lists in LL.\n",
        "\n",
        "For example, appears_in([[1,2,3,5,7,9,10],[2,4,6,8,10],[1,2,6,8,10,12]]) should return a list with the elements [1,2,3,5,7,9,10,4,6,8,12] (order doesn't matter). "
      ]
    },
    {
      "cell_type": "code",
      "execution_count": null,
      "metadata": {
        "id": "cngNfsxMYRNA"
      },
      "outputs": [],
      "source": [
        "def appears_in(LL):\n",
        "  S = set()\n",
        "  for L in LL:\n",
        "    S = S.union(set(L))\n",
        "  return list(S)"
      ]
    },
    {
      "cell_type": "code",
      "execution_count": null,
      "metadata": {
        "id": "4VZnTV4P5U8O"
      },
      "outputs": [],
      "source": [
        "L = appears_in([[1,2,3,5,7,9,10],[2,4,6,8,10],[1,2,6,8,10,12]])\n",
        "print(L)"
      ]
    },
    {
      "cell_type": "markdown",
      "metadata": {
        "id": "xfc3FxPbVXxS"
      },
      "source": [
        "**Exercise 2.** Write the function appears_in_all(LL) that receives a list of lists LL and returns a list with the elements that appear in all of the lists in LL.\n",
        "\n",
        "For example, appears_in_all([[1,2,3,5,7,9,10],[2,4,6,8,10],[1,2,6,8,10,12]]) should return a list with the elements [2,10]."
      ]
    },
    {
      "cell_type": "code",
      "execution_count": null,
      "metadata": {
        "id": "PPwXO30cYRog"
      },
      "outputs": [],
      "source": [
        "def appears_in_all(LL):\n",
        "  S = set(LL[0])\n",
        "  for L in LL[1:]:\n",
        "    S = S.intersection(set(L))\n",
        "  return list(S)"
      ]
    },
    {
      "cell_type": "code",
      "execution_count": null,
      "metadata": {
        "id": "pek4dX9z6DvW"
      },
      "outputs": [],
      "source": [
        "L = appears_in_all([[1,2,3,5,7,9,10],[2,4,6,8,10],[1,2,6,8,10,12]])\n",
        "print(L)"
      ]
    },
    {
      "cell_type": "markdown",
      "metadata": {
        "id": "SR3pc_aPZcBf"
      },
      "source": [
        "We can iterate over the members of a set using a for loop (without indexing)"
      ]
    },
    {
      "cell_type": "code",
      "execution_count": null,
      "metadata": {
        "id": "xqjghSLt64Pq"
      },
      "outputs": [],
      "source": [
        "L = [1,2,3,4,5]\n",
        "S=  set(L)\n",
        "for s in S:\n",
        "  print(s)"
      ]
    }
  ],
  "metadata": {
    "colab": {
      "collapsed_sections": [],
      "name": "hash tables and sets Fall21.ipynb",
      "provenance": []
    },
    "interpreter": {
      "hash": "22d9742e846c5b2e6352a52abbfdb0eaab0b509899a61abbfb2417673253b584"
    },
    "kernelspec": {
      "display_name": "Python 3.9.6 64-bit",
      "name": "python3"
    },
    "language_info": {
      "codemirror_mode": {
        "name": "ipython",
        "version": 3
      },
      "file_extension": ".py",
      "mimetype": "text/x-python",
      "name": "python",
      "nbconvert_exporter": "python",
      "pygments_lexer": "ipython3",
      "version": "3.9.6"
    }
  },
  "nbformat": 4,
  "nbformat_minor": 2
}
