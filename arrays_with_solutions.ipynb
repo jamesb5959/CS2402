{
  "nbformat": 4,
  "nbformat_minor": 2,
  "metadata": {
    "colab": {
      "name": "arrays_with_solutions.ipynb",
      "provenance": [],
      "collapsed_sections": []
    },
    "kernelspec": {
      "name": "python3",
      "display_name": "Python 3.9.6 64-bit"
    },
    "language_info": {
      "name": "python",
      "version": "3.9.6",
      "mimetype": "text/x-python",
      "codemirror_mode": {
        "name": "ipython",
        "version": 3
      },
      "pygments_lexer": "ipython3",
      "nbconvert_exporter": "python",
      "file_extension": ".py"
    },
    "interpreter": {
      "hash": "22d9742e846c5b2e6352a52abbfdb0eaab0b509899a61abbfb2417673253b584"
    }
  },
  "cells": [
    {
      "cell_type": "markdown",
      "source": [
        "# **Arrays**"
      ],
      "metadata": {
        "id": "SAR-RP97t8ap"
      }
    },
    {
      "cell_type": "markdown",
      "source": [
        "Arrays are not part of the language. We will use them through the numpy library. \n",
        "Arrays are similar to lists, but all elements must be of the same type.\n"
      ],
      "metadata": {
        "id": "xxW5owwzuBdW"
      }
    },
    {
      "cell_type": "markdown",
      "source": [
        "The numpy library provides implementations of many useful operations on arrays of any dimensionality.  "
      ],
      "metadata": {
        "id": "OFLv81Rcv-4G"
      }
    },
    {
      "cell_type": "markdown",
      "source": [
        "The following statement imports the library and declares np as short for numpy. We can access functions and modules in the numpy library by using the dot notation. "
      ],
      "metadata": {
        "id": "YnEBaPW8un1s"
      }
    },
    {
      "cell_type": "code",
      "execution_count": null,
      "source": [
        "import numpy as np"
      ],
      "outputs": [],
      "metadata": {
        "id": "KN_loq20t1l9"
      }
    },
    {
      "cell_type": "markdown",
      "source": [
        "Arrays can be created in several ways."
      ],
      "metadata": {
        "id": "mP4lN8l3v2C-"
      }
    },
    {
      "cell_type": "markdown",
      "source": [
        "We can convert a list to a 1-D array."
      ],
      "metadata": {
        "id": "JlJmKRMzwbld"
      }
    },
    {
      "cell_type": "code",
      "execution_count": null,
      "source": [
        "a = np.array([1,2,3,4])\n",
        "print(a)"
      ],
      "outputs": [
        {
          "output_type": "stream",
          "name": "stdout",
          "text": [
            "[1 2 3 4]\n"
          ]
        }
      ],
      "metadata": {
        "colab": {
          "base_uri": "https://localhost:8080/"
        },
        "id": "zG7GOtb4woBd",
        "outputId": "01d3c0e5-e6bd-4eef-c745-7be985309075"
      }
    },
    {
      "cell_type": "markdown",
      "source": [
        "We can convert a list of lists to a 2-D array (or a list of lists of lists to a 3D array, and so on)."
      ],
      "metadata": {
        "id": "gk6eUXDZubwF"
      }
    },
    {
      "cell_type": "code",
      "execution_count": null,
      "source": [
        "a = np.array([[1,2,3,4],[5,6,7,8]])\n",
        "print(a)"
      ],
      "outputs": [
        {
          "output_type": "stream",
          "name": "stdout",
          "text": [
            "[[1 2 3 4]\n",
            " [5 6 7 8]]\n"
          ]
        }
      ],
      "metadata": {
        "colab": {
          "base_uri": "https://localhost:8080/"
        },
        "id": "B94ERMmsw-4i",
        "outputId": "00b48912-ff7b-4588-b51e-bf9ca0f6f112"
      }
    },
    {
      "cell_type": "markdown",
      "source": [
        "Unlike Java, numpy does not allow jagged arrays. "
      ],
      "metadata": {
        "id": "opLOpMOvxFQ6"
      }
    },
    {
      "cell_type": "code",
      "execution_count": null,
      "source": [
        "a = np.array([[1,2,3,4],[5,6,7]])\n",
        "print(a)"
      ],
      "outputs": [
        {
          "output_type": "stream",
          "name": "stdout",
          "text": [
            "[list([1, 2, 3, 4]) list([5, 6, 7])]\n"
          ]
        },
        {
          "output_type": "stream",
          "name": "stderr",
          "text": [
            "/usr/local/lib/python3.7/dist-packages/ipykernel_launcher.py:1: VisibleDeprecationWarning: Creating an ndarray from ragged nested sequences (which is a list-or-tuple of lists-or-tuples-or ndarrays with different lengths or shapes) is deprecated. If you meant to do this, you must specify 'dtype=object' when creating the ndarray\n",
            "  \"\"\"Entry point for launching an IPython kernel.\n"
          ]
        }
      ],
      "metadata": {
        "colab": {
          "base_uri": "https://localhost:8080/"
        },
        "id": "7Tj1MUk0xL0r",
        "outputId": "19c528ef-0714-47ce-97d1-f5ffed61c0c3"
      }
    },
    {
      "cell_type": "markdown",
      "source": [
        "The array type is infered from the data provided"
      ],
      "metadata": {
        "id": "26taW1s8xQfD"
      }
    },
    {
      "cell_type": "code",
      "execution_count": null,
      "source": [
        "a = np.array([[1.5,2,3,4],[5,6,7,8]])\n",
        "print(a)"
      ],
      "outputs": [
        {
          "output_type": "stream",
          "name": "stdout",
          "text": [
            "[[1.5 2.  3.  4. ]\n",
            " [5.  6.  7.  8. ]]\n"
          ]
        }
      ],
      "metadata": {
        "colab": {
          "base_uri": "https://localhost:8080/"
        },
        "id": "uEpA1FA7xbOr",
        "outputId": "ee7e1417-e6f3-4731-b235-7ed0cb9328f3"
      }
    },
    {
      "cell_type": "markdown",
      "source": [
        "The function zeros creates an array full of zeros, the function ones creates an array full of ones, and the function empty creates an array whose initial content is random and depends on the state of the memory. By default, the dtype of the created array is float64."
      ],
      "metadata": {
        "id": "i1QRK33-xhdK"
      }
    },
    {
      "cell_type": "code",
      "execution_count": null,
      "source": [
        "a = np.zeros(5) # Create 1-D array\n",
        "print(a)"
      ],
      "outputs": [
        {
          "output_type": "stream",
          "name": "stdout",
          "text": [
            "[0. 0. 0. 0. 0.]\n"
          ]
        }
      ],
      "metadata": {
        "colab": {
          "base_uri": "https://localhost:8080/"
        },
        "id": "zxTa9B1ox4ou",
        "outputId": "e693df26-7fd7-4035-baa1-9b0bf7718df7"
      }
    },
    {
      "cell_type": "code",
      "execution_count": null,
      "source": [
        "a = np.zeros((5,3)) # Create 2-D array with 5 rows and 3 colummns\n",
        "print(a)"
      ],
      "outputs": [
        {
          "output_type": "stream",
          "name": "stdout",
          "text": [
            "[[0. 0. 0.]\n",
            " [0. 0. 0.]\n",
            " [0. 0. 0.]\n",
            " [0. 0. 0.]\n",
            " [0. 0. 0.]]\n"
          ]
        }
      ],
      "metadata": {
        "colab": {
          "base_uri": "https://localhost:8080/"
        },
        "id": "e6YFA4o1yCTR",
        "outputId": "94442257-42b9-4133-af68-db61d94a6569"
      }
    },
    {
      "cell_type": "code",
      "execution_count": null,
      "source": [
        "a = np.ones((2,3)) # Create 2-D array with 2 rows and 3 colummns\n",
        "print(a)"
      ],
      "outputs": [
        {
          "output_type": "stream",
          "name": "stdout",
          "text": [
            "[[1. 1. 1.]\n",
            " [1. 1. 1.]]\n"
          ]
        }
      ],
      "metadata": {
        "colab": {
          "base_uri": "https://localhost:8080/"
        },
        "id": "IjVd6pzVyKRI",
        "outputId": "1aeb82a1-eddc-49d3-b267-5071a0b5e340"
      }
    },
    {
      "cell_type": "markdown",
      "source": [
        "You can also specify the type"
      ],
      "metadata": {
        "id": "9sFyMIi2yPl4"
      }
    },
    {
      "cell_type": "code",
      "execution_count": null,
      "source": [
        "a = np.ones((2,3),dtype=np.int16) # Create 2-D array with 2 rows and 3 colummns\n",
        "print(a)"
      ],
      "outputs": [
        {
          "output_type": "stream",
          "name": "stdout",
          "text": [
            "[[1 1 1]\n",
            " [1 1 1]]\n"
          ]
        }
      ],
      "metadata": {
        "colab": {
          "base_uri": "https://localhost:8080/"
        },
        "id": "1m3mXXqWySfJ",
        "outputId": "2f4a48ba-5eef-4ca7-af16-13e8f8c3d4a8"
      }
    },
    {
      "cell_type": "markdown",
      "source": [
        "To create sequences of numbers, NumPy provides the arange function which is analogous to the Python built-in range, but returns an array."
      ],
      "metadata": {
        "id": "ZN-MDfKXydZ5"
      }
    },
    {
      "cell_type": "code",
      "execution_count": null,
      "source": [
        "a= np.arange(16)\n",
        "print(a)"
      ],
      "outputs": [
        {
          "output_type": "stream",
          "name": "stdout",
          "text": [
            "[ 0  1  2  3  4  5  6  7  8  9 10 11 12 13 14 15]\n"
          ]
        }
      ],
      "metadata": {
        "colab": {
          "base_uri": "https://localhost:8080/"
        },
        "id": "UpOxj4fFyhgD",
        "outputId": "a21891f0-faaf-4702-a43d-47b9586f563d"
      }
    },
    {
      "cell_type": "code",
      "execution_count": null,
      "source": [
        "a= np.arange(20,100,10)\n",
        "print(a)"
      ],
      "outputs": [
        {
          "output_type": "stream",
          "name": "stdout",
          "text": [
            "[20 30 40 50 60 70 80 90]\n"
          ]
        }
      ],
      "metadata": {
        "colab": {
          "base_uri": "https://localhost:8080/"
        },
        "id": "OTPxhy0_yl-X",
        "outputId": "efbf2347-2b97-49da-d9e0-fe25607060e9"
      }
    },
    {
      "cell_type": "markdown",
      "source": [
        "The reshape operation can be used to change the dimensionality of an array (but the number of elements cannot change)."
      ],
      "metadata": {
        "id": "TS1wY6P5y5g_"
      }
    },
    {
      "cell_type": "code",
      "execution_count": null,
      "source": [
        "a= np.arange(16)\n",
        "print(a)\n",
        "b = a.reshape(4,4)\n",
        "print(b)"
      ],
      "outputs": [
        {
          "output_type": "stream",
          "name": "stdout",
          "text": [
            "[ 0  1  2  3  4  5  6  7  8  9 10 11 12 13 14 15]\n",
            "[[ 0  1  2  3]\n",
            " [ 4  5  6  7]\n",
            " [ 8  9 10 11]\n",
            " [12 13 14 15]]\n"
          ]
        }
      ],
      "metadata": {
        "colab": {
          "base_uri": "https://localhost:8080/"
        },
        "id": "HmxFl3b2zEu_",
        "outputId": "daa08852-2890-4e54-906b-cf2b0f3f879d"
      }
    },
    {
      "cell_type": "code",
      "execution_count": null,
      "source": [
        "a= np.arange(16)\n",
        "b = a.reshape(4,5)\n",
        "print(b)"
      ],
      "outputs": [
        {
          "output_type": "error",
          "ename": "ValueError",
          "evalue": "ignored",
          "traceback": [
            "\u001b[0;31m---------------------------------------------------------------------------\u001b[0m",
            "\u001b[0;31mValueError\u001b[0m                                Traceback (most recent call last)",
            "\u001b[0;32m<ipython-input-43-c4bf174c9b86>\u001b[0m in \u001b[0;36m<module>\u001b[0;34m()\u001b[0m\n\u001b[1;32m      1\u001b[0m \u001b[0ma\u001b[0m\u001b[0;34m=\u001b[0m \u001b[0mnp\u001b[0m\u001b[0;34m.\u001b[0m\u001b[0marange\u001b[0m\u001b[0;34m(\u001b[0m\u001b[0;36m16\u001b[0m\u001b[0;34m)\u001b[0m\u001b[0;34m\u001b[0m\u001b[0;34m\u001b[0m\u001b[0m\n\u001b[0;32m----> 2\u001b[0;31m \u001b[0mb\u001b[0m \u001b[0;34m=\u001b[0m \u001b[0ma\u001b[0m\u001b[0;34m.\u001b[0m\u001b[0mreshape\u001b[0m\u001b[0;34m(\u001b[0m\u001b[0;36m4\u001b[0m\u001b[0;34m,\u001b[0m\u001b[0;36m5\u001b[0m\u001b[0;34m)\u001b[0m\u001b[0;34m\u001b[0m\u001b[0;34m\u001b[0m\u001b[0m\n\u001b[0m\u001b[1;32m      3\u001b[0m \u001b[0mprint\u001b[0m\u001b[0;34m(\u001b[0m\u001b[0mb\u001b[0m\u001b[0;34m)\u001b[0m\u001b[0;34m\u001b[0m\u001b[0;34m\u001b[0m\u001b[0m\n",
            "\u001b[0;31mValueError\u001b[0m: cannot reshape array of size 16 into shape (4,5)"
          ]
        }
      ],
      "metadata": {
        "colab": {
          "base_uri": "https://localhost:8080/",
          "height": 197
        },
        "id": "tllkQahQzL-v",
        "outputId": "d544164e-eda9-4404-97b1-c4e26d077ce8"
      }
    },
    {
      "cell_type": "markdown",
      "source": [
        "reshape returns a copy of the array, without modifying the original array.\n"
      ],
      "metadata": {
        "id": "Ni1aUyr4zYCX"
      }
    },
    {
      "cell_type": "code",
      "execution_count": null,
      "source": [
        "a= np.arange(16)\n",
        "a.reshape(4,4)\n",
        "print(a)"
      ],
      "outputs": [
        {
          "output_type": "stream",
          "name": "stdout",
          "text": [
            "[ 0  1  2  3  4  5  6  7  8  9 10 11 12 13 14 15]\n"
          ]
        }
      ],
      "metadata": {
        "colab": {
          "base_uri": "https://localhost:8080/"
        },
        "id": "jy4vora9zf1_",
        "outputId": "02ec0f61-e429-4cb4-ba0b-31961bf8886e"
      }
    },
    {
      "cell_type": "markdown",
      "source": [
        "a.shape is a tuple (an immutable list) that contains the size of each of the dimensions of array a. len(a.shape) contains the number of dimensions of a."
      ],
      "metadata": {
        "id": "7DLb5RBDasPF"
      }
    },
    {
      "cell_type": "code",
      "execution_count": null,
      "source": [
        "a= np.arange(16)\n",
        "print(a)\n",
        "print(a.shape)\n",
        "print(len(a.shape))\n",
        "b = a.reshape(4,4)\n",
        "print(b)\n",
        "print(b.shape)\n",
        "print(len(b.shape))\n",
        "c = a.reshape(2,2,4,1)\n",
        "print(c)\n",
        "print(c.shape)\n",
        "print(len(c.shape))"
      ],
      "outputs": [
        {
          "output_type": "stream",
          "name": "stdout",
          "text": [
            "[ 0  1  2  3  4  5  6  7  8  9 10 11 12 13 14 15]\n",
            "(16,)\n",
            "1\n",
            "[[ 0  1  2  3]\n",
            " [ 4  5  6  7]\n",
            " [ 8  9 10 11]\n",
            " [12 13 14 15]]\n",
            "(4, 4)\n",
            "2\n",
            "[[[[ 0]\n",
            "   [ 1]\n",
            "   [ 2]\n",
            "   [ 3]]\n",
            "\n",
            "  [[ 4]\n",
            "   [ 5]\n",
            "   [ 6]\n",
            "   [ 7]]]\n",
            "\n",
            "\n",
            " [[[ 8]\n",
            "   [ 9]\n",
            "   [10]\n",
            "   [11]]\n",
            "\n",
            "  [[12]\n",
            "   [13]\n",
            "   [14]\n",
            "   [15]]]]\n",
            "(2, 2, 4, 1)\n",
            "4\n"
          ]
        }
      ],
      "metadata": {
        "colab": {
          "base_uri": "https://localhost:8080/"
        },
        "id": "RMuvbnjOat19",
        "outputId": "50e7302c-19e6-46b9-bd07-60e79563200a"
      }
    },
    {
      "cell_type": "markdown",
      "source": [
        "Arithmetic operators on arrays apply elementwise. There's no need to write for loops to perform array operations!!!"
      ],
      "metadata": {
        "id": "D5A0KLm60OH2"
      }
    },
    {
      "cell_type": "code",
      "execution_count": null,
      "source": [
        "a= np.arange(16).reshape(4,4)\r\n",
        "print(a)\r\n",
        "b = a + 5\r\n",
        "print(b)\r\n",
        "c = a**2\r\n",
        "print(c)\r\n",
        "d = np.sin(a)\r\n",
        "print(d)\r\n",
        "print(a+b) \r\n",
        "print(a*c) "
      ],
      "outputs": [
        {
          "output_type": "stream",
          "name": "stdout",
          "text": [
            "[[ 0  1  2  3]\n",
            " [ 4  5  6  7]\n",
            " [ 8  9 10 11]\n",
            " [12 13 14 15]]\n",
            "[[ 5  6  7  8]\n",
            " [ 9 10 11 12]\n",
            " [13 14 15 16]\n",
            " [17 18 19 20]]\n",
            "[[  0   1   4   9]\n",
            " [ 16  25  36  49]\n",
            " [ 64  81 100 121]\n",
            " [144 169 196 225]]\n",
            "[[ 0.          0.84147098  0.90929743  0.14112001]\n",
            " [-0.7568025  -0.95892427 -0.2794155   0.6569866 ]\n",
            " [ 0.98935825  0.41211849 -0.54402111 -0.99999021]\n",
            " [-0.53657292  0.42016704  0.99060736  0.65028784]]\n",
            "[[ 5  7  9 11]\n",
            " [13 15 17 19]\n",
            " [21 23 25 27]\n",
            " [29 31 33 35]]\n",
            "[[   0    1    8   27]\n",
            " [  64  125  216  343]\n",
            " [ 512  729 1000 1331]\n",
            " [1728 2197 2744 3375]]\n"
          ]
        }
      ],
      "metadata": {
        "colab": {
          "base_uri": "https://localhost:8080/"
        },
        "id": "OA6yITiV0P0e",
        "outputId": "44bbe46a-740a-4a9d-d2c8-8decb495db1f"
      }
    },
    {
      "cell_type": "markdown",
      "source": [
        "Integer indexing works the same was as in Java "
      ],
      "metadata": {
        "id": "kExzNadI1jTO"
      }
    },
    {
      "cell_type": "code",
      "execution_count": null,
      "source": [
        "print(a[2,3])\r\n",
        "print(a[0,2])"
      ],
      "outputs": [
        {
          "output_type": "stream",
          "name": "stdout",
          "text": [
            "11\n",
            "2\n"
          ]
        }
      ],
      "metadata": {
        "colab": {
          "base_uri": "https://localhost:8080/"
        },
        "id": "rV_E5OnT00vH",
        "outputId": "56d91278-da8b-4cca-992b-aad97906404f"
      }
    },
    {
      "cell_type": "markdown",
      "source": [
        "As with lists, negative indices (counting from the end) are allowed"
      ],
      "metadata": {
        "id": "v6KWixes13A9"
      }
    },
    {
      "cell_type": "code",
      "execution_count": null,
      "source": [
        "print(a[0,-1])\r\n",
        "print(a[-1,0])"
      ],
      "outputs": [
        {
          "output_type": "stream",
          "name": "stdout",
          "text": [
            "3\n",
            "12\n"
          ]
        }
      ],
      "metadata": {
        "colab": {
          "base_uri": "https://localhost:8080/"
        },
        "id": "h02CTS2D19rk",
        "outputId": "48f47386-8e9d-444d-c6da-854dbfe6990c"
      }
    },
    {
      "cell_type": "markdown",
      "source": [
        "Slicing works the same ways as with lists, with one slice per dimension"
      ],
      "metadata": {
        "id": "Ge-SNtNv2SBt"
      }
    },
    {
      "cell_type": "code",
      "execution_count": null,
      "source": [
        "print(a[:2,1:])  # Select rows 0 and 1 and columns 1,2, and 3"
      ],
      "outputs": [
        {
          "output_type": "stream",
          "name": "stdout",
          "text": [
            "[[1 2 3]\n",
            " [5 6 7]]\n"
          ]
        }
      ],
      "metadata": {
        "colab": {
          "base_uri": "https://localhost:8080/"
        },
        "id": "aOS1NrPD2ReM",
        "outputId": "e32939fb-db82-464e-9683-57ca8c704090"
      }
    },
    {
      "cell_type": "code",
      "execution_count": null,
      "source": [
        "print(a[::2,1::2])  # Select rows 0 and 2 and columns 1 and 3"
      ],
      "outputs": [
        {
          "output_type": "stream",
          "name": "stdout",
          "text": [
            "[[ 1  3]\n",
            " [ 9 11]]\n"
          ]
        }
      ],
      "metadata": {
        "colab": {
          "base_uri": "https://localhost:8080/"
        },
        "id": "QtvyF0GG2ogU",
        "outputId": "0ca4027e-a5ed-4c89-dd0f-f19263b46143"
      }
    },
    {
      "cell_type": "code",
      "execution_count": null,
      "source": [
        "print(a[:,::-1])  # Reverse the order of columns"
      ],
      "outputs": [
        {
          "output_type": "stream",
          "name": "stdout",
          "text": [
            "[[ 3  2  1  0]\n",
            " [ 7  6  5  4]\n",
            " [11 10  9  8]\n",
            " [15 14 13 12]]\n"
          ]
        }
      ],
      "metadata": {
        "colab": {
          "base_uri": "https://localhost:8080/"
        },
        "id": "CPryVII52-MM",
        "outputId": "9760008c-4017-442f-ec70-b1e7d75a2d01"
      }
    },
    {
      "cell_type": "code",
      "execution_count": 1,
      "source": [
        "print(a[::-1,:])  # Reverse the order of rows"
      ],
      "outputs": [
        {
          "output_type": "error",
          "ename": "NameError",
          "evalue": "name 'a' is not defined",
          "traceback": [
            "\u001b[1;31m---------------------------------------------------------------------------\u001b[0m",
            "\u001b[1;31mNameError\u001b[0m                                 Traceback (most recent call last)",
            "\u001b[1;32m~\\AppData\\Local\\Temp/ipykernel_6380/783089734.py\u001b[0m in \u001b[0;36m<module>\u001b[1;34m\u001b[0m\n\u001b[1;32m----> 1\u001b[1;33m \u001b[0mprint\u001b[0m\u001b[1;33m(\u001b[0m\u001b[0ma\u001b[0m\u001b[1;33m[\u001b[0m\u001b[1;33m:\u001b[0m\u001b[1;33m:\u001b[0m\u001b[1;33m-\u001b[0m\u001b[1;36m1\u001b[0m\u001b[1;33m,\u001b[0m\u001b[1;33m:\u001b[0m\u001b[1;33m]\u001b[0m\u001b[1;33m)\u001b[0m  \u001b[1;31m# Reverse the order of rows\u001b[0m\u001b[1;33m\u001b[0m\u001b[1;33m\u001b[0m\u001b[0m\n\u001b[0m",
            "\u001b[1;31mNameError\u001b[0m: name 'a' is not defined"
          ]
        }
      ],
      "metadata": {
        "colab": {
          "base_uri": "https://localhost:8080/"
        },
        "id": "hQ2Sw7sv2z0V",
        "outputId": "a735ed92-d181-4c97-b6c9-b77381724a0d"
      }
    },
    {
      "cell_type": "code",
      "execution_count": null,
      "source": [
        "print(a[::-1])  # Reverse the order of rows, trailing ':' may be ommited"
      ],
      "outputs": [
        {
          "output_type": "stream",
          "name": "stdout",
          "text": [
            "[[12 13 14 15]\n",
            " [ 8  9 10 11]\n",
            " [ 4  5  6  7]\n",
            " [ 0  1  2  3]]\n"
          ]
        }
      ],
      "metadata": {
        "colab": {
          "base_uri": "https://localhost:8080/"
        },
        "id": "zUsHKURK3JF8",
        "outputId": "50cb559a-3af9-469e-e036-8459950b9e43"
      }
    },
    {
      "cell_type": "markdown",
      "source": [
        "We can use lists of the same length as indices"
      ],
      "metadata": {
        "id": "Jo8Jf0Zg3UOV"
      }
    },
    {
      "cell_type": "code",
      "execution_count": null,
      "source": [
        "c = a[[2,3,1],[1,0,3]] # Returns 1-D array containing [a[2,1], a[3,0], a[1,3]]\r\n",
        "print(c)"
      ],
      "outputs": [
        {
          "output_type": "stream",
          "name": "stdout",
          "text": [
            "[ 9 12  7]\n"
          ]
        }
      ],
      "metadata": {
        "colab": {
          "base_uri": "https://localhost:8080/"
        },
        "id": "TcbHkELY3Zkc",
        "outputId": "67fe0a9a-e5a7-4a41-8f2d-098b4e41c95d"
      }
    },
    {
      "cell_type": "markdown",
      "source": [
        "We can assign values to array elements and slices"
      ],
      "metadata": {
        "id": "vB02YnA17B2t"
      }
    },
    {
      "cell_type": "code",
      "execution_count": null,
      "source": [
        "a= np.arange(16).reshape(4,4)\r\n",
        "print(a)\r\n",
        "a[2,3] = -100\r\n",
        "print(a)"
      ],
      "outputs": [
        {
          "output_type": "stream",
          "name": "stdout",
          "text": [
            "[[ 0  1  2  3]\n",
            " [ 4  5  6  7]\n",
            " [ 8  9 10 11]\n",
            " [12 13 14 15]]\n",
            "[[   0    1    2    3]\n",
            " [   4    5    6    7]\n",
            " [   8    9   10 -100]\n",
            " [  12   13   14   15]]\n"
          ]
        }
      ],
      "metadata": {
        "colab": {
          "base_uri": "https://localhost:8080/"
        },
        "id": "2aQdIUDe7hEO",
        "outputId": "7150990d-ba93-4e40-d65f-3447d1f1ba68"
      }
    },
    {
      "cell_type": "code",
      "execution_count": null,
      "source": [
        "a= np.arange(16).reshape(4,4)\r\n",
        "print(a)\r\n",
        "a[:2,1:] = -100\r\n",
        "print(a)"
      ],
      "outputs": [
        {
          "output_type": "stream",
          "name": "stdout",
          "text": [
            "[[ 0  1  2  3]\n",
            " [ 4  5  6  7]\n",
            " [ 8  9 10 11]\n",
            " [12 13 14 15]]\n",
            "[[   0 -100 -100 -100]\n",
            " [   4 -100 -100 -100]\n",
            " [   8    9   10   11]\n",
            " [  12   13   14   15]]\n"
          ]
        }
      ],
      "metadata": {
        "colab": {
          "base_uri": "https://localhost:8080/"
        },
        "id": "5lK7umR172OC",
        "outputId": "dd96df17-3c21-44bf-ef43-66c18939d19d"
      }
    },
    {
      "cell_type": "markdown",
      "source": [
        "You can perform elementwise operations on array slices if they are the same size"
      ],
      "metadata": {
        "id": "UbFXERWS-Iex"
      }
    },
    {
      "cell_type": "code",
      "execution_count": null,
      "source": [
        "a= np.arange(16).reshape(4,4)\r\n",
        "print(a)\r\n",
        "b = np.arange(6).reshape(2,3)\r\n",
        "print(b)\r\n",
        "a[:2,1:] = a[:2,1:] - b\r\n",
        "print(a)"
      ],
      "outputs": [
        {
          "output_type": "stream",
          "name": "stdout",
          "text": [
            "[[ 0  1  2  3]\n",
            " [ 4  5  6  7]\n",
            " [ 8  9 10 11]\n",
            " [12 13 14 15]]\n",
            "[[0 1 2]\n",
            " [3 4 5]]\n",
            "[[ 0  1  1  1]\n",
            " [ 4  2  2  2]\n",
            " [ 8  9 10 11]\n",
            " [12 13 14 15]]\n"
          ]
        }
      ],
      "metadata": {
        "colab": {
          "base_uri": "https://localhost:8080/"
        },
        "id": "VW5x_E8h-e6K",
        "outputId": "5122ea9c-01ea-47d9-a97a-b34e53bf359d"
      }
    },
    {
      "cell_type": "markdown",
      "source": [
        "Warning - arrays are passed by reference; array assignments are shallow"
      ],
      "metadata": {
        "id": "SNMUENZJ_e8r"
      }
    },
    {
      "cell_type": "code",
      "execution_count": null,
      "source": [
        "a= np.arange(16).reshape(4,4)\r\n",
        "print(a)\r\n",
        "b = a\r\n",
        "b[0,0] = 2302\r\n",
        "print(a)"
      ],
      "outputs": [
        {
          "output_type": "stream",
          "name": "stdout",
          "text": [
            "[[ 0  1  2  3]\n",
            " [ 4  5  6  7]\n",
            " [ 8  9 10 11]\n",
            " [12 13 14 15]]\n",
            "[[2302    1    2    3]\n",
            " [   4    5    6    7]\n",
            " [   8    9   10   11]\n",
            " [  12   13   14   15]]\n"
          ]
        }
      ],
      "metadata": {
        "colab": {
          "base_uri": "https://localhost:8080/"
        },
        "id": "4N0Qhuzt_ngj",
        "outputId": "313190f8-e256-4fc0-e55e-c36bf23b7d31"
      }
    },
    {
      "cell_type": "markdown",
      "source": [
        "This will make a deep copy of a"
      ],
      "metadata": {
        "id": "FFgzt-HgACYS"
      }
    },
    {
      "cell_type": "code",
      "execution_count": null,
      "source": [
        "a= np.arange(16).reshape(4,4)\r\n",
        "print(a)\r\n",
        "b = np.copy(a)\r\n",
        "b[0,0] = 2302\r\n",
        "print(a)\r\n",
        "print(b)\r\n"
      ],
      "outputs": [
        {
          "output_type": "stream",
          "name": "stdout",
          "text": [
            "[[ 0  1  2  3]\n",
            " [ 4  5  6  7]\n",
            " [ 8  9 10 11]\n",
            " [12 13 14 15]]\n",
            "[[ 0  1  2  3]\n",
            " [ 4  5  6  7]\n",
            " [ 8  9 10 11]\n",
            " [12 13 14 15]]\n",
            "[[2302    1    2    3]\n",
            " [   4    5    6    7]\n",
            " [   8    9   10   11]\n",
            " [  12   13   14   15]]\n"
          ]
        }
      ],
      "metadata": {
        "colab": {
          "base_uri": "https://localhost:8080/"
        },
        "id": "q8brWVR3_4Rb",
        "outputId": "31f6b54e-0d63-461d-de01-fde4f1d69bbf"
      }
    },
    {
      "cell_type": "markdown",
      "source": [
        "Numpy provides LOTS of array operations. See:\n",
        "https://numpy.org/doc/stable/reference/routines.math.html"
      ],
      "metadata": {
        "id": "17jt9dOZAUIZ"
      }
    },
    {
      "cell_type": "markdown",
      "source": [
        "Commonly use built-in functions:\n"
      ],
      "metadata": {
        "id": "OTcg3FcNqOLL"
      }
    },
    {
      "cell_type": "code",
      "execution_count": null,
      "source": [
        "a = np.array([60,  0, 70, 50, 10, 30, 90, 40, 80, 20])"
      ],
      "outputs": [],
      "metadata": {
        "id": "4Vdbi3p5qS_S"
      }
    },
    {
      "cell_type": "code",
      "execution_count": null,
      "source": [
        "print(np.min(a))"
      ],
      "outputs": [
        {
          "output_type": "stream",
          "name": "stdout",
          "text": [
            "0\n"
          ]
        }
      ],
      "metadata": {
        "colab": {
          "base_uri": "https://localhost:8080/"
        },
        "id": "4FJIOXE5qhdA",
        "outputId": "0a0ce282-3d60-47fe-f189-ef0f0c41d9e0"
      }
    },
    {
      "cell_type": "code",
      "execution_count": null,
      "source": [
        "print(np.max(a))"
      ],
      "outputs": [
        {
          "output_type": "stream",
          "name": "stdout",
          "text": [
            "90\n"
          ]
        }
      ],
      "metadata": {
        "colab": {
          "base_uri": "https://localhost:8080/"
        },
        "id": "FE7Dyxe3qvd1",
        "outputId": "e2fad527-0a9f-460a-de06-b6ec03bae5cd"
      }
    },
    {
      "cell_type": "code",
      "execution_count": null,
      "source": [
        "print(np.mean(a))"
      ],
      "outputs": [
        {
          "output_type": "stream",
          "name": "stdout",
          "text": [
            "45.0\n"
          ]
        }
      ],
      "metadata": {
        "colab": {
          "base_uri": "https://localhost:8080/"
        },
        "id": "qp5Ooa8aqzpU",
        "outputId": "42cc560e-745d-4d53-a5af-4c72f959fa01"
      }
    },
    {
      "cell_type": "code",
      "execution_count": null,
      "source": [
        "print(np.argmax(a)) # Returns the index of the maximum element in a"
      ],
      "outputs": [
        {
          "output_type": "stream",
          "name": "stdout",
          "text": [
            "6\n"
          ]
        }
      ],
      "metadata": {
        "colab": {
          "base_uri": "https://localhost:8080/"
        },
        "id": "KDNG0sVHq3xl",
        "outputId": "90468707-e5c3-4dfd-f27e-53293bb27264"
      }
    },
    {
      "cell_type": "code",
      "execution_count": null,
      "source": [
        "print(np.argmin(a)) # Returns the index of the minimum element in a"
      ],
      "outputs": [
        {
          "output_type": "stream",
          "name": "stdout",
          "text": [
            "1\n"
          ]
        }
      ],
      "metadata": {
        "colab": {
          "base_uri": "https://localhost:8080/"
        },
        "id": "uDXRlorirDWY",
        "outputId": "e147e3ac-b4f1-4af9-e9a3-1ce2b98c9467"
      }
    },
    {
      "cell_type": "markdown",
      "source": [
        "Since Python is an interpreted language, loops are slow. See the comparative running time of the same operation with and without loops. "
      ],
      "metadata": {
        "id": "aCVxqc-aAcIR"
      }
    },
    {
      "cell_type": "code",
      "execution_count": null,
      "source": [
        "import time\r\n",
        "\r\n",
        "def sum_array_loops(a,b): \r\n",
        "  c = np.zeros_like(a) \r\n",
        "  for i in range(a.shape[0]):\r\n",
        "    for j in range(a.shape[1]):\r\n",
        "      c[i,j] =  a[i,j] + b[i,j]\r\n",
        "  return c\r\n",
        "\r\n",
        "def sum_array(a,b): \r\n",
        "  c = a +b\r\n",
        "  return c\r\n",
        "  \r\n",
        "size = 2000\r\n",
        "\r\n",
        "a = np.random.random((size,size))\r\n",
        "b = np.random.random((size,size))\r\n",
        "\r\n",
        "start = time.time()\r\n",
        "c = sum_array_loops(a,b)\r\n",
        "elapsed_time1 = time.time() - start\r\n",
        "print('elapsed time using loops', elapsed_time1,'secs')\r\n",
        "\r\n",
        "start = time.time()\r\n",
        "c = sum_array(a,b)\r\n",
        "elapsed_time2 = time.time() - start\r\n",
        "print('elapsed time without loops', elapsed_time2,'secs')\r\n",
        "\r\n",
        "print('ratio',elapsed_time1/elapsed_time2)"
      ],
      "outputs": [
        {
          "output_type": "stream",
          "name": "stdout",
          "text": [
            "elapsed time using loops 2.4381954669952393 secs\n",
            "elapsed time without loops 0.008878469467163086 secs\n",
            "ratio 274.61889417009047\n"
          ]
        }
      ],
      "metadata": {
        "colab": {
          "base_uri": "https://localhost:8080/"
        },
        "id": "Maehku9EA07v",
        "outputId": "e176a745-dbef-4fe8-9bfc-14e86268ac51"
      }
    },
    {
      "cell_type": "markdown",
      "source": [
        "# **Exercises**\n"
      ],
      "metadata": {
        "id": "rWjHCu4fEJ2q"
      }
    },
    {
      "cell_type": "markdown",
      "source": [
        "Write the function replace_max(a,m) that replace the maximum element in a by m. If the maximum occurs multiple times, replace only the first occurrence."
      ],
      "metadata": {
        "id": "L8xyeA74rPkb"
      }
    },
    {
      "cell_type": "markdown",
      "source": [
        "Write the function is_square(a) that receives an array a and determines if a is square (that is, is has exactly two dimensions and they have the same size).\r\n"
      ],
      "metadata": {
        "id": "4nd0o5JXs6eq"
      }
    },
    {
      "cell_type": "code",
      "execution_count": null,
      "source": [
        "def is_square(a):\r\n",
        "  return len(a.shape) == 2 and a.shape[0]==a.shape[1]"
      ],
      "outputs": [],
      "metadata": {
        "id": "tVApLYxltI4P"
      }
    },
    {
      "cell_type": "code",
      "execution_count": null,
      "source": [
        "a = np.arange(16)\r\n",
        "print(a)\r\n",
        "print(is_square(a))\r\n",
        "b = a.reshape(2,8)\r\n",
        "print(b)\r\n",
        "print(is_square(b))\r\n",
        "c = a.reshape(4,4,1)\r\n",
        "print(c)\r\n",
        "print(is_square(c))\r\n",
        "d = a.reshape(4,4)\r\n",
        "print(d)\r\n",
        "print(is_square(d))"
      ],
      "outputs": [
        {
          "output_type": "stream",
          "name": "stdout",
          "text": [
            "[ 0  1  2  3  4  5  6  7  8  9 10 11 12 13 14 15]\n",
            "False\n",
            "[[ 0  1  2  3  4  5  6  7]\n",
            " [ 8  9 10 11 12 13 14 15]]\n",
            "False\n",
            "[[[ 0]\n",
            "  [ 1]\n",
            "  [ 2]\n",
            "  [ 3]]\n",
            "\n",
            " [[ 4]\n",
            "  [ 5]\n",
            "  [ 6]\n",
            "  [ 7]]\n",
            "\n",
            " [[ 8]\n",
            "  [ 9]\n",
            "  [10]\n",
            "  [11]]\n",
            "\n",
            " [[12]\n",
            "  [13]\n",
            "  [14]\n",
            "  [15]]]\n",
            "False\n",
            "[[ 0  1  2  3]\n",
            " [ 4  5  6  7]\n",
            " [ 8  9 10 11]\n",
            " [12 13 14 15]]\n",
            "True\n"
          ]
        }
      ],
      "metadata": {
        "colab": {
          "base_uri": "https://localhost:8080/"
        },
        "id": "JqE3SS-OtQhL",
        "outputId": "17bdd171-92a7-4729-da64-a21307e49e85"
      }
    },
    {
      "cell_type": "code",
      "execution_count": null,
      "source": [
        "def  replace_max(a,m):\r\n",
        "  a[np.argmax(a)] = m"
      ],
      "outputs": [],
      "metadata": {
        "id": "q83nd1a9rcq_"
      }
    },
    {
      "cell_type": "code",
      "execution_count": null,
      "source": [
        "a = np.array([20, 90, 80, 70, 40,  0, 50, 60, 30, 10])\r\n",
        "print(a)\r\n",
        "replace_max(a,-1)\r\n",
        "print(a)"
      ],
      "outputs": [
        {
          "output_type": "stream",
          "name": "stdout",
          "text": [
            "[20 90 80 70 40  0 50 60 30 10]\n",
            "[20 -1 80 70 40  0 50 60 30 10]\n"
          ]
        }
      ],
      "metadata": {
        "colab": {
          "base_uri": "https://localhost:8080/"
        },
        "id": "VYxFfl-Prj9B",
        "outputId": "eeacad81-ac29-417f-eb58-6d26893e8af4"
      }
    },
    {
      "cell_type": "markdown",
      "source": [
        "Write the function diagonal(a) that receives a square array a and returns a 1D array contaiing the elements in the diagonal of a (that is [a[0,0], a[1,1], ...)."
      ],
      "metadata": {
        "id": "JSZ_awmar8eJ"
      }
    },
    {
      "cell_type": "code",
      "execution_count": null,
      "source": [
        "def  diagonal(a):\r\n",
        "  d = np.arange(a.shape[0])\r\n",
        "  return a[d,d]"
      ],
      "outputs": [],
      "metadata": {
        "id": "IR9DbmFusKwa"
      }
    },
    {
      "cell_type": "code",
      "execution_count": null,
      "source": [
        "a = np.array([[10, 70, 40], [ 0, 80, 60], [50, 30, 20]])\r\n",
        "print(a)\r\n",
        "print(diagonal(a))"
      ],
      "outputs": [
        {
          "output_type": "stream",
          "name": "stdout",
          "text": [
            "[[10 70 40]\n",
            " [ 0 80 60]\n",
            " [50 30 20]]\n",
            "[10 80 20]\n"
          ]
        }
      ],
      "metadata": {
        "colab": {
          "base_uri": "https://localhost:8080/"
        },
        "id": "sqeyNxuXsf46",
        "outputId": "1ba4fbbe-13a9-4e19-a6a2-8be9c7c50971"
      }
    }
  ]
}