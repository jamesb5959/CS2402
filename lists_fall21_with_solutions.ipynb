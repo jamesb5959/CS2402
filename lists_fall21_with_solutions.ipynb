{
  "nbformat": 4,
  "nbformat_minor": 2,
  "metadata": {
    "colab": {
      "name": "lists_fall21_with_solutions.ipynb",
      "provenance": [],
      "collapsed_sections": [
        "JdHTGhOc_CdQ",
        "BM1DuXV8QDYi"
      ]
    },
    "kernelspec": {
      "name": "python3",
      "display_name": "Python 3.9.6 64-bit"
    },
    "language_info": {
      "name": "python",
      "version": "3.9.6",
      "mimetype": "text/x-python",
      "codemirror_mode": {
        "name": "ipython",
        "version": 3
      },
      "pygments_lexer": "ipython3",
      "nbconvert_exporter": "python",
      "file_extension": ".py"
    },
    "interpreter": {
      "hash": "22d9742e846c5b2e6352a52abbfdb0eaab0b509899a61abbfb2417673253b584"
    }
  },
  "cells": [
    {
      "cell_type": "markdown",
      "source": [
        "# **CS 2302 Data Structures**\n",
        "\n",
        "**Lists in Python**\n",
        "\n",
        "**Author:** [Olac Fuentes](http://www.cs.utep.edu/ofuentes/)<br>\n",
        "**Last modified:** 2021/08/27<br>\n",
        "Please report errors to me. "
      ],
      "metadata": {
        "id": "RWLLb4Qtby56"
      }
    },
    {
      "cell_type": "markdown",
      "source": [
        "# **Lists in Python**"
      ],
      "metadata": {
        "id": "JdHTGhOc_CdQ"
      }
    },
    {
      "cell_type": "markdown",
      "source": [
        "A list is an ordered sequence of elements. Each element or value that is inside of a list is called an item. \n",
        "\n",
        "Lists in Python are mutable, that is, their values can be changed.\n",
        "\n",
        "Items in a list are not required to have the same type."
      ],
      "metadata": {
        "id": "Ww9D0ys3C8m2"
      }
    },
    {
      "cell_type": "markdown",
      "source": [
        "To define a list in Python, we specify its name, followed by the values it contains, enclosed in brackets."
      ],
      "metadata": {
        "id": "xROsWuF_DD1g"
      }
    },
    {
      "cell_type": "code",
      "execution_count": null,
      "source": [
        "L = [1,2,3]"
      ],
      "outputs": [],
      "metadata": {
        "id": "fvxCGAiaC8C4"
      }
    },
    {
      "cell_type": "markdown",
      "source": [
        "List contents can be displayed using the print statement"
      ],
      "metadata": {
        "id": "_sK36JOKEVf5"
      }
    },
    {
      "cell_type": "code",
      "execution_count": null,
      "source": [
        "print(L)"
      ],
      "outputs": [],
      "metadata": {
        "id": "XYvMaPD8EbkP"
      }
    },
    {
      "cell_type": "markdown",
      "source": [
        "A list can be empty\n"
      ],
      "metadata": {
        "id": "-KBibKNHHAWv"
      }
    },
    {
      "cell_type": "code",
      "execution_count": null,
      "source": [
        "L = []\r\n",
        "print(L)"
      ],
      "outputs": [],
      "metadata": {
        "id": "9vk7EtWpHTfv"
      }
    },
    {
      "cell_type": "markdown",
      "source": [
        "\n",
        "Items in a list are not required to have the same type."
      ],
      "metadata": {
        "id": "mnmC4xmeD4NY"
      }
    },
    {
      "cell_type": "code",
      "execution_count": null,
      "source": [
        "L = [1, 3.1416, 'CS 2302']\r\n",
        "print(L)"
      ],
      "outputs": [],
      "metadata": {
        "id": "ZkeErEpFD3kM"
      }
    },
    {
      "cell_type": "markdown",
      "source": [
        "Items in a list can also be lists!"
      ],
      "metadata": {
        "id": "viI9KqlQEFtJ"
      }
    },
    {
      "cell_type": "code",
      "execution_count": null,
      "source": [
        "L = [1, 3.1416, 'CS 2302',['a','b','c']]\r\n",
        "print(L)"
      ],
      "outputs": [],
      "metadata": {
        "id": "TAGl29mZEEyP"
      }
    },
    {
      "cell_type": "markdown",
      "source": [
        "Individual elements can be accessed using their index (starting with 0)"
      ],
      "metadata": {
        "id": "AfaQS5CXHc3e"
      }
    },
    {
      "cell_type": "code",
      "execution_count": null,
      "source": [
        "L = [1, 3.1416, 'CS 2302']\r\n",
        "print(L[0])"
      ],
      "outputs": [],
      "metadata": {
        "id": "Bs_pM9rGHvkS"
      }
    },
    {
      "cell_type": "code",
      "execution_count": 2,
      "source": [
        "for i in range(3):\r\n",
        "  print(L[i])"
      ],
      "outputs": [
        {
          "output_type": "error",
          "ename": "NameError",
          "evalue": "name 'L' is not defined",
          "traceback": [
            "\u001b[1;31m---------------------------------------------------------------------------\u001b[0m",
            "\u001b[1;31mNameError\u001b[0m                                 Traceback (most recent call last)",
            "\u001b[1;32m~\\AppData\\Local\\Temp/ipykernel_23080/1606706298.py\u001b[0m in \u001b[0;36m<module>\u001b[1;34m\u001b[0m\n\u001b[0;32m      1\u001b[0m \u001b[1;32mfor\u001b[0m \u001b[0mi\u001b[0m \u001b[1;32min\u001b[0m \u001b[0mrange\u001b[0m\u001b[1;33m(\u001b[0m\u001b[1;36m3\u001b[0m\u001b[1;33m)\u001b[0m\u001b[1;33m:\u001b[0m\u001b[1;33m\u001b[0m\u001b[1;33m\u001b[0m\u001b[0m\n\u001b[1;32m----> 2\u001b[1;33m   \u001b[0mprint\u001b[0m\u001b[1;33m(\u001b[0m\u001b[0mL\u001b[0m\u001b[1;33m[\u001b[0m\u001b[0mi\u001b[0m\u001b[1;33m]\u001b[0m\u001b[1;33m)\u001b[0m\u001b[1;33m\u001b[0m\u001b[1;33m\u001b[0m\u001b[0m\n\u001b[0m",
            "\u001b[1;31mNameError\u001b[0m: name 'L' is not defined"
          ]
        }
      ],
      "metadata": {
        "id": "2GR38J5eHzuC"
      }
    },
    {
      "cell_type": "markdown",
      "source": [
        "Elements can be modified"
      ],
      "metadata": {
        "id": "ShZbDk-9H5It"
      }
    },
    {
      "cell_type": "code",
      "execution_count": 3,
      "source": [
        "L = [1, 3.1416, 'CS 2302']\r\n",
        "print(L)\r\n",
        "L[1] = 'pi'\r\n",
        "print(L)\r\n"
      ],
      "outputs": [
        {
          "output_type": "stream",
          "name": "stdout",
          "text": [
            "[1, 3.1416, 'CS 2302']\n",
            "[1, 'pi', 'CS 2302']\n"
          ]
        }
      ],
      "metadata": {
        "id": "5BQhVWLpBkrU"
      }
    },
    {
      "cell_type": "markdown",
      "source": [
        "To add an element to the end of a list, we use the append function"
      ],
      "metadata": {
        "id": "vhzA5GwZIQ_W"
      }
    },
    {
      "cell_type": "code",
      "execution_count": 1,
      "source": [
        "L = [10,20,30]\r\n",
        "print(L)\r\n",
        "L.append(40)\r\n",
        "print(L)\r\n"
      ],
      "outputs": [
        {
          "output_type": "stream",
          "name": "stdout",
          "text": [
            "[10, 20, 30]\n",
            "[10, 20, 30, 40]\n"
          ]
        }
      ],
      "metadata": {
        "id": "hXVYc1DUIN91"
      }
    },
    {
      "cell_type": "markdown",
      "source": [
        "To add an element in a specific position, we use the insert function"
      ],
      "metadata": {
        "id": "sG12vjBHIlCa"
      }
    },
    {
      "cell_type": "code",
      "execution_count": 2,
      "source": [
        "L = [10,20,30]\r\n",
        "print(L)\r\n",
        "L.insert(1,40)\r\n",
        "print(L)"
      ],
      "outputs": [
        {
          "output_type": "stream",
          "name": "stdout",
          "text": [
            "[10, 20, 30]\n",
            "[10, 40, 20, 30]\n"
          ]
        }
      ],
      "metadata": {
        "id": "B4YKpXCAIwxG"
      }
    },
    {
      "cell_type": "markdown",
      "source": [
        "To remove the element at the end of a list, we use the pop function, which also returns the element that was removed"
      ],
      "metadata": {
        "id": "aqhTWWFxI3Zu"
      }
    },
    {
      "cell_type": "code",
      "execution_count": 8,
      "source": [
        "L = [10,20,30]\r\n",
        "print(L)\r\n",
        "i = L.pop()\r\n",
        "print(i)\r\n",
        "print(L)"
      ],
      "outputs": [
        {
          "output_type": "stream",
          "name": "stdout",
          "text": [
            "[10, 20, 30]\n",
            "30\n",
            "[10, 20]\n"
          ]
        }
      ],
      "metadata": {
        "id": "PFCZCcwVJMv-"
      }
    },
    {
      "cell_type": "markdown",
      "source": [
        "To remove an element at a specific position, we pass its index to the pop function, which also returns the element that was removed"
      ],
      "metadata": {
        "id": "eLBqdluQJXr8"
      }
    },
    {
      "cell_type": "code",
      "execution_count": 7,
      "source": [
        "L = [10,20,30]\r\n",
        "print(L)\r\n",
        "i = L.pop(1)\r\n",
        "print(i)\r\n",
        "print(L)"
      ],
      "outputs": [
        {
          "output_type": "stream",
          "name": "stdout",
          "text": [
            "[10, 20, 30]\n",
            "20\n",
            "[10, 30]\n"
          ]
        }
      ],
      "metadata": {
        "id": "U0FvZTWzJjfz"
      }
    },
    {
      "cell_type": "markdown",
      "source": [
        "Python allows negative indices. -1 is the index of the last element, -2 is the index of the next to last element, and so on."
      ],
      "metadata": {
        "id": "pXNfnbLlJ3yn"
      }
    },
    {
      "cell_type": "code",
      "execution_count": null,
      "source": [
        "L = [10,20,30,40,50]\r\n",
        "print(L[-1])\r\n",
        "print(L[-3])\r\n",
        "print(L[5])\r\n",
        "print(L[-6])"
      ],
      "outputs": [],
      "metadata": {
        "id": "DQt7YhGRJ3gR"
      }
    },
    {
      "cell_type": "markdown",
      "source": [
        "We can check if an element is present in a list using the 'in' operator"
      ],
      "metadata": {
        "id": "BOznFCl-H9EK"
      }
    },
    {
      "cell_type": "code",
      "execution_count": null,
      "source": [
        "L = [10,20,30]\r\n",
        "print(L)\r\n",
        "print(20 in L)\r\n",
        "print(40 in L)"
      ],
      "outputs": [],
      "metadata": {
        "id": "-HwtIxq-IJ3d"
      }
    },
    {
      "cell_type": "markdown",
      "source": [
        "We can also use the 'not in' operator"
      ],
      "metadata": {
        "id": "Gh9wtVEsISVJ"
      }
    },
    {
      "cell_type": "code",
      "execution_count": null,
      "source": [
        "L = [10,20,30]\r\n",
        "print(L)\r\n",
        "print(20 not in L)\r\n",
        "print(40 not in L)"
      ],
      "outputs": [],
      "metadata": {
        "id": "STyF10kAIrI6"
      }
    },
    {
      "cell_type": "markdown",
      "source": [
        "We can access a range of items in a list by using the slicing operator :(colon)."
      ],
      "metadata": {
        "id": "mU_8zE8nKg1M"
      }
    },
    {
      "cell_type": "code",
      "execution_count": null,
      "source": [
        "L = [10,20,30,40,50]\r\n",
        "print(L[1:4])"
      ],
      "outputs": [],
      "metadata": {
        "id": "K1unlQFLKj1v"
      }
    },
    {
      "cell_type": "markdown",
      "source": [
        "The syntax to access a range of element is as follows: L[start:end:step]. \r\n",
        "\r\n",
        "If start is not specified, if defaults to 0.\r\n",
        "\r\n",
        "If end is not specified, it defaults to the list length (as in the range function, end is non-inclusive)\r\n",
        "\r\n",
        "If step is not specified, it defaults to 1.\r\n",
        "\r\n",
        "If only one ':' is included, step defaults to 1.\r\n"
      ],
      "metadata": {
        "id": "3SoJ1YWdKwCp"
      }
    },
    {
      "cell_type": "code",
      "execution_count": null,
      "source": [
        "L = [10,20,30,40,50,60,70,80,90,100]"
      ],
      "outputs": [],
      "metadata": {
        "id": "VXZhXH85LXTx"
      }
    },
    {
      "cell_type": "code",
      "execution_count": 4,
      "source": [
        "print(L[:5])"
      ],
      "outputs": [
        {
          "output_type": "stream",
          "name": "stdout",
          "text": [
            "[1, 'pi', 'CS 2302']\n"
          ]
        }
      ],
      "metadata": {
        "id": "_BHATGe0Lc-Z"
      }
    },
    {
      "cell_type": "code",
      "execution_count": null,
      "source": [
        "print(L[5:])"
      ],
      "outputs": [],
      "metadata": {
        "id": "GTFce1xILhsh"
      }
    },
    {
      "cell_type": "code",
      "execution_count": null,
      "source": [
        "print(L[1:8:2])"
      ],
      "outputs": [],
      "metadata": {
        "id": "TD25VFj5LkY4"
      }
    },
    {
      "cell_type": "code",
      "execution_count": null,
      "source": [
        "print(L[1::2])"
      ],
      "outputs": [],
      "metadata": {
        "id": "ACe4hZVxMJOM"
      }
    },
    {
      "cell_type": "markdown",
      "source": [
        "Slices can be empty"
      ],
      "metadata": {
        "id": "Dxw9YXQiLvEe"
      }
    },
    {
      "cell_type": "code",
      "execution_count": null,
      "source": [
        "print(L[20:])"
      ],
      "outputs": [],
      "metadata": {
        "id": "MrseJ98vLxKs"
      }
    },
    {
      "cell_type": "markdown",
      "source": [
        "We can create a slice using the slice function and apply it to multiple lists. The slice function accepts arguments in the same order as in slice notation, and if you need to skip some element, just use None."
      ],
      "metadata": {
        "id": "Fhyl--kAUI0v"
      }
    },
    {
      "cell_type": "code",
      "execution_count": null,
      "source": [
        "L1 = [10,20,30,40,50,60,70,80,90,100]\r\n",
        "L2 = [4,2,3,1,5,0,7]\r\n",
        "s = slice(None,5,None)\r\n",
        "print(L1[s])\r\n",
        "print(L2[s])\r\n",
        "s = slice(None,None,3)\r\n",
        "print(L1[s])\r\n",
        "print(L2[s])\r\n",
        "s = slice(1,6,2)\r\n",
        "print(L1[s])\r\n",
        "print(L2[s])"
      ],
      "outputs": [],
      "metadata": {
        "id": "5L6vO2QkUi4s"
      }
    },
    {
      "cell_type": "markdown",
      "source": [
        "The function len(L) returns the length of list L"
      ],
      "metadata": {
        "id": "_Ld1fDcXL5Co"
      }
    },
    {
      "cell_type": "code",
      "execution_count": null,
      "source": [
        "L = [10,20,30,40,50,60,70,80,90,100]\r\n",
        "print(len(L))\r\n",
        "print(len([]))\r\n",
        "print(len(L[5:]))"
      ],
      "outputs": [],
      "metadata": {
        "id": "6NYck9_1L-rk"
      }
    },
    {
      "cell_type": "markdown",
      "source": [
        "Lists can be concatenated using the + operator"
      ],
      "metadata": {
        "id": "BswXrUFlMSOi"
      }
    },
    {
      "cell_type": "code",
      "execution_count": 6,
      "source": [
        "A = [1,2,3] \r\n",
        "B = [4,5,6] \r\n",
        "C = A + B \r\n",
        "print(C)"
      ],
      "outputs": [
        {
          "output_type": "stream",
          "name": "stdout",
          "text": [
            "[1, 2, 3, 4, 5, 6]\n"
          ]
        }
      ],
      "metadata": {
        "id": "ElW3P4tKMeQc"
      }
    },
    {
      "cell_type": "markdown",
      "source": [
        "We can iterate over the elements of a list using a for loop and the range function"
      ],
      "metadata": {
        "id": "QuGmIt5dQziA"
      }
    },
    {
      "cell_type": "code",
      "execution_count": 5,
      "source": [
        "L = [10,20,30,40,50,60,70,80,90,100]\r\n",
        "for i in range(len(L)):\r\n",
        "  print(L[i])"
      ],
      "outputs": [
        {
          "output_type": "stream",
          "name": "stdout",
          "text": [
            "10\n",
            "20\n",
            "30\n",
            "40\n",
            "50\n",
            "60\n",
            "70\n",
            "80\n",
            "90\n",
            "100\n"
          ]
        }
      ],
      "metadata": {
        "id": "S9P_z05dQ9Ay"
      }
    },
    {
      "cell_type": "markdown",
      "source": [
        "An often more convenient way involves iterating directly over the elements of the list:  "
      ],
      "metadata": {
        "id": "uQfq4dYdRFA-"
      }
    },
    {
      "cell_type": "code",
      "execution_count": 4,
      "source": [
        "L = [10,20,30,40,50,60,70,80,90,100]\r\n",
        "for item in L:\r\n",
        "  print(item)"
      ],
      "outputs": [
        {
          "output_type": "stream",
          "name": "stdout",
          "text": [
            "10\n",
            "20\n",
            "30\n",
            "40\n",
            "50\n",
            "60\n",
            "70\n",
            "80\n",
            "90\n",
            "100\n"
          ]
        }
      ],
      "metadata": {
        "id": "sfBqKQRVRqUB"
      }
    },
    {
      "cell_type": "markdown",
      "source": [
        "We can access indices and items using **enumerate** "
      ],
      "metadata": {
        "id": "HAjUL1WQTpRE"
      }
    },
    {
      "cell_type": "code",
      "execution_count": null,
      "source": [
        "L = [10,20,30,40,50,60,70,80,90,100]\r\n",
        "for i, item in enumerate(L):\r\n",
        "  print(item,'is in position',i)"
      ],
      "outputs": [],
      "metadata": {
        "id": "lAAx-vzUT4nT"
      }
    },
    {
      "cell_type": "markdown",
      "source": [
        "There are many built-in list functions, including the following:\n"
      ],
      "metadata": {
        "id": "A1Q0scbxM5jJ"
      }
    },
    {
      "cell_type": "markdown",
      "source": [
        "list.remove(x) - Remove the first item from the list whose value is equal to x. It raises a ValueError if there is no such item."
      ],
      "metadata": {
        "id": "F3GAfYOr6_mX"
      }
    },
    {
      "cell_type": "code",
      "execution_count": null,
      "source": [
        "L = [100,50,90,60,20,40,70,80,30,10,50,60]\r\n",
        "print(L)\r\n",
        "L.remove(60)\r\n",
        "print(L)"
      ],
      "outputs": [],
      "metadata": {
        "id": "SGv34KC2Mm4U"
      }
    },
    {
      "cell_type": "code",
      "execution_count": null,
      "source": [
        "L = [100,50,90,60,20,40,70,80,30,10,50]\r\n",
        "print(L)\r\n",
        "L.remove(2302)\r\n",
        "print(L)"
      ],
      "outputs": [],
      "metadata": {
        "id": "wY4OtHfr7MYL"
      }
    },
    {
      "cell_type": "markdown",
      "source": [
        "list.count(x) - Return the number of times x appears in the list."
      ],
      "metadata": {
        "id": "8yEDpAhl5V7H"
      }
    },
    {
      "cell_type": "code",
      "execution_count": null,
      "source": [
        "L = [100,50,90,60,20,40,70,80,30,10,50]\r\n",
        "print(L)\r\n",
        "print(L.count(45))\r\n",
        "print(L.count(50))\r\n",
        "print(L.count(100))"
      ],
      "outputs": [],
      "metadata": {
        "id": "hoNXDzR-OEld"
      }
    },
    {
      "cell_type": "markdown",
      "source": [
        "list.sort(reverse=False) - Sort the items of the list in place"
      ],
      "metadata": {
        "id": "qng0x2tp5cBA"
      }
    },
    {
      "cell_type": "code",
      "execution_count": null,
      "source": [
        "L = [100,50,90,60,20,40,70,80,30,10,50]\r\n",
        "print(L)\r\n",
        "L.sort()\r\n",
        "print(L)"
      ],
      "outputs": [],
      "metadata": {
        "id": "Z6ioH4lzObGo"
      }
    },
    {
      "cell_type": "code",
      "execution_count": null,
      "source": [
        "L = [100,50,90,60,20,40,70,80,30,10,50]\r\n",
        "print(L)\r\n",
        "L.sort(reverse=True)\r\n",
        "print(L)"
      ],
      "outputs": [],
      "metadata": {
        "id": "EXAxEi805qoD"
      }
    },
    {
      "cell_type": "markdown",
      "source": [
        "list.reverse() - Reverse the elements of the list in place."
      ],
      "metadata": {
        "id": "ZBRT-pzr6CTB"
      }
    },
    {
      "cell_type": "code",
      "execution_count": 5,
      "source": [
        "L = [100,50,90,60,20,40,70,80,30,10,50]\r\n",
        "print(L)\r\n",
        "L.reverse()\r\n",
        "print(L)"
      ],
      "outputs": [
        {
          "output_type": "stream",
          "name": "stdout",
          "text": [
            "[100, 50, 90, 60, 20, 40, 70, 80, 30, 10, 50]\n",
            "[50, 10, 30, 80, 70, 40, 20, 60, 90, 50, 100]\n"
          ]
        }
      ],
      "metadata": {
        "id": "CX4FiosVOhe5"
      }
    },
    {
      "cell_type": "markdown",
      "source": [
        "list.index(x[, start[, end]]) - Return zero-based index in the list of the first item whose value is equal to x. Raises a ValueError if there is no such item."
      ],
      "metadata": {
        "id": "nlGB8iue6ILi"
      }
    },
    {
      "cell_type": "code",
      "execution_count": null,
      "source": [
        "L = [100,50,90,60,20,50,40,70,80,30,10,50]\r\n",
        "print(L)\r\n",
        "i = L.index(50)\r\n",
        "print(i)"
      ],
      "outputs": [],
      "metadata": {
        "id": "9gbO2RleOnW4"
      }
    },
    {
      "cell_type": "code",
      "execution_count": null,
      "source": [
        "L = [100,50,90,60,20,50,40,70,80,30,10,50]\r\n",
        "print(L)\r\n",
        "i = L.index(50,2)\r\n",
        "print(i)"
      ],
      "outputs": [],
      "metadata": {
        "id": "VSMXRY9L6QFA"
      }
    },
    {
      "cell_type": "code",
      "execution_count": null,
      "source": [
        "L = [100,50,90,60,20,50,40,70,80,30,10,50]\r\n",
        "print(L)\r\n",
        "i = L.index(50,6)\r\n",
        "print(i)"
      ],
      "outputs": [],
      "metadata": {
        "id": "ppynWCUn6owU"
      }
    },
    {
      "cell_type": "code",
      "execution_count": null,
      "source": [
        "L = [100,50,90,60,20,50,40,70,80,30,10,50]\r\n",
        "print(L)\r\n",
        "i = L.index(2302)\r\n",
        "print(i)"
      ],
      "outputs": [],
      "metadata": {
        "id": "azwMwbAl7UZD"
      }
    },
    {
      "cell_type": "markdown",
      "source": [
        "## **List comprehension**"
      ],
      "metadata": {
        "id": "PKufiTCkP8Y9"
      }
    },
    {
      "cell_type": "markdown",
      "source": [
        "List comprehension offers a compact and convenient way of creating lists in Python\n",
        "\n",
        "Lets create a list containing the squares of all integers from 0 to 10 (non-inclusive)"
      ],
      "metadata": {
        "id": "snau8sfxPbIF"
      }
    },
    {
      "cell_type": "code",
      "execution_count": null,
      "source": [
        "S = []\r\n",
        "for i in range(10):\r\n",
        "  S.append(i**2)\r\n",
        "print(S)"
      ],
      "outputs": [],
      "metadata": {
        "id": "ZgBFgRZNQMPl"
      }
    },
    {
      "cell_type": "markdown",
      "source": [
        "The same operation can be expressed in a single line of Python code:"
      ],
      "metadata": {
        "id": "cF_8EIUzQU-q"
      }
    },
    {
      "cell_type": "code",
      "execution_count": null,
      "source": [
        "S = [i**2 for i in range(10)]\r\n",
        "print(S)"
      ],
      "outputs": [],
      "metadata": {
        "id": "Uyl64_6VQfHM"
      }
    },
    {
      "cell_type": "markdown",
      "source": [
        "We can also include conditional statements in list comprehension."
      ],
      "metadata": {
        "id": "ASElsPRHSO20"
      }
    },
    {
      "cell_type": "code",
      "execution_count": null,
      "source": [
        "L = [100,50,90,60,20,50,40,70,80,30,10,50]\r\n",
        "L1 = [i for i in L if i>50]\r\n",
        "print(L1)"
      ],
      "outputs": [],
      "metadata": {
        "id": "3TXjrKhyRxev"
      }
    },
    {
      "cell_type": "markdown",
      "source": [
        "See https://docs.python.org/3/tutorial/datastructures.html for more on lists.\n"
      ],
      "metadata": {
        "id": "0Tyud6rxQtKM"
      }
    },
    {
      "cell_type": "markdown",
      "source": [
        "Many of the Python built-in functions can be applied to lists. See https://docs.python.org/3/library/functions.html\n"
      ],
      "metadata": {
        "id": "7nLrRYBK9E_O"
      }
    },
    {
      "cell_type": "code",
      "execution_count": null,
      "source": [
        "L = [100,50,90,60,20,50,40,70,80,30,10,50]\r\n",
        "print(L)\r\n",
        "Ls =  sorted(L)\r\n",
        "print(L)\r\n",
        "print(Ls)"
      ],
      "outputs": [],
      "metadata": {
        "id": "DZebsYop9YTY"
      }
    },
    {
      "cell_type": "code",
      "execution_count": null,
      "source": [
        "L = [100,50,90,60,20,50,40,70,80,30,10,50]\r\n",
        "print(min(L))\r\n",
        "print(max(L))\r\n",
        "print(sum(L))\r\n",
        "print(type(L))"
      ],
      "outputs": [],
      "metadata": {
        "id": "A3uhcbCe-Fbc"
      }
    },
    {
      "cell_type": "markdown",
      "source": [
        "We can compare lists using the '==' operator"
      ],
      "metadata": {
        "id": "VpJes8BfAqcr"
      }
    },
    {
      "cell_type": "code",
      "execution_count": null,
      "source": [
        "L1 = [1,2,3]\r\n",
        "L2 = [1,2,3,4]\r\n",
        "L3 = [5,2,1]\r\n",
        "L4 = [1,2,3]\r\n",
        "L5 = []\r\n",
        "print(L1==L1)\r\n",
        "print(L1==L2)\r\n",
        "print(L1==L3)\r\n",
        "print(L1==L4)"
      ],
      "outputs": [],
      "metadata": {
        "id": "y_ncqUT5Awar"
      }
    },
    {
      "cell_type": "markdown",
      "source": [
        "# **Exercises**"
      ],
      "metadata": {
        "id": "BM1DuXV8QDYi"
      }
    },
    {
      "cell_type": "markdown",
      "source": [
        "**Exercise 1.** Write the function list_range(start,end) that returns a list containing the integers from start to end (non-inclusive). If start is greater or equal to end, your function should return an empty list."
      ],
      "metadata": {
        "id": "lMeFYTBdJy4l"
      }
    },
    {
      "cell_type": "code",
      "execution_count": null,
      "source": [
        "def list_range(start,end):\r\n",
        "  return [i for i in range(start,end)]\r\n",
        "  \r\n",
        "L = list_range(0,5)\r\n",
        "print(L)\r\n",
        "L = list_range(5,0)\r\n",
        "print(L)\r\n",
        "L = list_range(5,8)\r\n",
        "print(L)\r\n",
        "L = list_range(6,6)\r\n",
        "print(L)"
      ],
      "outputs": [],
      "metadata": {
        "id": "CGzJJfEAKKPL"
      }
    },
    {
      "cell_type": "markdown",
      "source": [
        "**Exercise 2.** Modify the list_range function as follows. If start is greater than end, return a list containing the integers from start down to end (non-inclusive) "
      ],
      "metadata": {
        "id": "VJS4cvp5K5EN"
      }
    },
    {
      "cell_type": "code",
      "execution_count": null,
      "source": [
        "def list_range(start,end):\r\n",
        "  step = 1\r\n",
        "  if start>end:\r\n",
        "    step = -1\r\n",
        "  return [i for i in range(start,end,step)]\r\n",
        "  \r\n",
        "L = list_range(0,5)\r\n",
        "print(L)\r\n",
        "L = list_range(5,0)\r\n",
        "print(L)\r\n",
        "L = list_range(5,8)\r\n",
        "print(L)\r\n",
        "L = list_range(6,6)\r\n",
        "print(L)"
      ],
      "outputs": [],
      "metadata": {
        "id": "PYuUv6FyS9H5"
      }
    },
    {
      "cell_type": "markdown",
      "source": [
        "**Exercise 3.**Write the function first(L) that returns the first item in list L, or None if L is empty.\r\n"
      ],
      "metadata": {
        "id": "QBiQdLGs-_yB"
      }
    },
    {
      "cell_type": "code",
      "execution_count": null,
      "source": [
        "def first(L):\r\n",
        "  if len(L)>0:\r\n",
        "    return L[0]\r\n",
        "  return None\r\n",
        "\r\n",
        "L1 = [1,2,3]\r\n",
        "L2 = [1,2,3,4]\r\n",
        "L3 = [5,2,1]\r\n",
        "L4 = [1,2,3]\r\n",
        "L5 = []\r\n",
        "print(first(L1))\r\n",
        "print(first(L2))\r\n",
        "print(first(L3))\r\n",
        "print(first(L4))\r\n",
        "print(first(L5))"
      ],
      "outputs": [],
      "metadata": {
        "id": "VaDuV8AnBICE"
      }
    },
    {
      "cell_type": "markdown",
      "source": [
        "**Exercise 4.** Write the function last(L) that returns the last item in list L, or None if L is empty."
      ],
      "metadata": {
        "id": "xVt66mSbByum"
      }
    },
    {
      "cell_type": "code",
      "execution_count": 1,
      "source": [
        "def last(L):\r\n",
        "  if len(L)>0:\r\n",
        "    return L[-1]\r\n",
        "  return None\r\n",
        "\r\n",
        "L1 = [1,2,3]\r\n",
        "L2 = [1,2,3,4]\r\n",
        "L3 = [5,2,1]\r\n",
        "L4 = [1,2,3]\r\n",
        "L5 = []\r\n",
        "print(last(L1))\r\n",
        "print(last(L2))\r\n",
        "print(last(L3))\r\n",
        "print(last(L4))\r\n",
        "print(last(L5))"
      ],
      "outputs": [
        {
          "output_type": "stream",
          "name": "stdout",
          "text": [
            "3\n",
            "4\n",
            "1\n",
            "3\n",
            "None\n"
          ]
        }
      ],
      "metadata": {
        "id": "N-9Uv0krB3Qz"
      }
    },
    {
      "cell_type": "markdown",
      "source": [
        "**Exercise 5.** Write the function firstN(L,n) that returns a list containing the first n items in list L, or the whole list if it contains less than n items.\r\n"
      ],
      "metadata": {
        "id": "2AwTvKoXJdNk"
      }
    },
    {
      "cell_type": "code",
      "execution_count": null,
      "source": [
        "def firstN(L,n):\r\n",
        "  return L[:n]\r\n",
        "\r\n",
        "L1 = [10,20,30]\r\n",
        "L2 = [5,11,22,33,14]\r\n",
        "L3 = []\r\n",
        "\r\n",
        "for L in [L1,L2,L3]:\r\n",
        "  for n in [1,2,4]:\r\n",
        "    print('L =',L,'n =',n)\r\n",
        "    print(firstN(L,n))"
      ],
      "outputs": [],
      "metadata": {
        "id": "FBcyjXR0J1Ss"
      }
    },
    {
      "cell_type": "markdown",
      "source": [
        "**Exercise 6.** Modify your the function firstN(L,n) so n becomes an optional parameter with default value 1. Thus, firstN([2,3,4]) should return [2].\n"
      ],
      "metadata": {
        "id": "hy-s-7owKvI0"
      }
    },
    {
      "cell_type": "code",
      "execution_count": null,
      "source": [
        "def firstN(L,n=1):\r\n",
        "  return L[:n]\r\n",
        "  \r\n",
        "L1 = [10,20,30,40]\r\n",
        "\r\n",
        "print(firstN(L1))\r\n",
        "print(firstN(L1,2))\r\n",
        "print(firstN(L1,20))\r\n"
      ],
      "outputs": [],
      "metadata": {
        "id": "YEtFhUIaLJXC"
      }
    },
    {
      "cell_type": "markdown",
      "source": [
        "**Exercise 7.** Write the function lastN(L,n) that returns a list containing the last n items in list L, or the whole list if it contains less than n items. Use a default value of 1 for n, so lastN([1,2,3]) returns [3]"
      ],
      "metadata": {
        "id": "YvjJdl7sLqyF"
      }
    },
    {
      "cell_type": "code",
      "execution_count": null,
      "source": [
        "def lastN(L,n=1):\r\n",
        "  return L[-n:]\r\n",
        "\r\n",
        "L1 = [10,20,30,40]\r\n",
        "\r\n",
        "print(lastN(L1))\r\n",
        "print(lastN(L1,2))\r\n",
        "print(lastN(L1,20))"
      ],
      "outputs": [],
      "metadata": {
        "id": "-PSmxcuZLv41"
      }
    },
    {
      "cell_type": "markdown",
      "source": [
        "**Exercise 8.** Write the function swapFirstAndLast(L) that swaps the first and last elements in L."
      ],
      "metadata": {
        "id": "FerJ_MhNCHOB"
      }
    },
    {
      "cell_type": "code",
      "execution_count": null,
      "source": [
        "def swapFirstAndLast(L):\r\n",
        "  if len(L)>1:\r\n",
        "    L[0],L[-1] = L[-1], L[0]\r\n",
        "\r\n",
        "L1 = [1,2,3]\r\n",
        "L2 = [1,2,3,4]\r\n",
        "L3 = [5,2,1]\r\n",
        "L4 = [1,2,3]\r\n",
        "L5 = [8]\r\n",
        "L6 = []\r\n",
        "\r\n",
        "for L in [L1,L2,L3,L4,L5,L6]:\r\n",
        "  print(L)\r\n",
        "  swapFirstAndLast(L)\r\n",
        "  print(L)\r\n",
        "  "
      ],
      "outputs": [],
      "metadata": {
        "id": "4SPb6HVyCTzK"
      }
    },
    {
      "cell_type": "markdown",
      "source": [
        "**Exercise 9.** Write the function replace(L,a,b) that replaces all occurrences of a by b in list L."
      ],
      "metadata": {
        "id": "tI5Pmw2ZBwoy"
      }
    },
    {
      "cell_type": "code",
      "execution_count": null,
      "source": [
        "def replace(L,a,b):\r\n",
        "  for i in range(len(L)):\r\n",
        "    if L[i]==a:\r\n",
        "      L[i]=b\r\n",
        "\r\n",
        "L1 = [1,2,3,6,9,6,3,0]\r\n",
        "L2 = [1,2,3,4,5]\r\n",
        "L3 = [5,2,1,21,43,7]\r\n",
        "L4 = [10,20,30,45,93,2302,3,3,3,3]\r\n",
        "L5 = [3]\r\n",
        "L6 = []\r\n",
        "L7 = [2021]\r\n",
        "\r\n",
        "for L in [L1,L2,L3,L4,L5,L6,L7]:\r\n",
        "  print(L)\r\n",
        "  replace(L,3,-1)\r\n",
        "  print(L)"
      ],
      "outputs": [],
      "metadata": {
        "id": "7tpQPkq1O5_v"
      }
    }
  ]
}