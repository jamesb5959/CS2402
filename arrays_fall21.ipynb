{
  "nbformat": 4,
  "nbformat_minor": 2,
  "metadata": {
    "colab": {
      "name": "arrays_fall21.ipynb",
      "provenance": [],
      "collapsed_sections": [
        "SAR-RP97t8ap",
        "Saa62fly6YJp",
        "wJtKyV5b8EUJ",
        "rWjHCu4fEJ2q"
      ],
      "toc_visible": true
    },
    "kernelspec": {
      "name": "python3",
      "display_name": "Python 3.9.6 64-bit"
    },
    "language_info": {
      "name": "python",
      "version": "3.9.6",
      "mimetype": "text/x-python",
      "codemirror_mode": {
        "name": "ipython",
        "version": 3
      },
      "pygments_lexer": "ipython3",
      "nbconvert_exporter": "python",
      "file_extension": ".py"
    },
    "interpreter": {
      "hash": "22d9742e846c5b2e6352a52abbfdb0eaab0b509899a61abbfb2417673253b584"
    }
  },
  "cells": [
    {
      "cell_type": "markdown",
      "source": [
        "# **CS 2302 Data Structures**\n",
        "\n",
        "<h2>Arrays in Python</h2>\n",
        "\n",
        "Author: Olac Fuentes, University of Texas at El Paso\n",
        "\n",
        "Last modified: 2021/08/31\n",
        "\n",
        "Please report errors to me\n"
      ],
      "metadata": {
        "id": "5gx7ZlG4kmjY"
      }
    },
    {
      "cell_type": "markdown",
      "source": [
        "# **Arrays**"
      ],
      "metadata": {
        "id": "SAR-RP97t8ap"
      }
    },
    {
      "cell_type": "markdown",
      "source": [
        "Arrays are not part of the language. We will use them through the numpy library. \n",
        "Arrays are similar to lists, but all elements must be of the same type.\n"
      ],
      "metadata": {
        "id": "xxW5owwzuBdW"
      }
    },
    {
      "cell_type": "markdown",
      "source": [
        "The numpy library provides implementations of many useful operations on arrays of any dimensionality.  "
      ],
      "metadata": {
        "id": "OFLv81Rcv-4G"
      }
    },
    {
      "cell_type": "markdown",
      "source": [
        "The following statement imports the library and declares np as short for numpy. We can access functions and modules in the numpy library by using the dot notation. "
      ],
      "metadata": {
        "id": "YnEBaPW8un1s"
      }
    },
    {
      "cell_type": "code",
      "execution_count": null,
      "source": [
        "import numpy as np"
      ],
      "outputs": [],
      "metadata": {
        "id": "KN_loq20t1l9"
      }
    },
    {
      "cell_type": "markdown",
      "source": [
        "Arrays can be created in several ways."
      ],
      "metadata": {
        "id": "mP4lN8l3v2C-"
      }
    },
    {
      "cell_type": "markdown",
      "source": [
        "We can convert a list to a 1-D array."
      ],
      "metadata": {
        "id": "JlJmKRMzwbld"
      }
    },
    {
      "cell_type": "code",
      "execution_count": null,
      "source": [
        "a = np.array([1,2,3,4])\r\n",
        "print(a)"
      ],
      "outputs": [],
      "metadata": {
        "id": "zG7GOtb4woBd"
      }
    },
    {
      "cell_type": "markdown",
      "source": [
        "We can convert a list of lists to a 2-D array (or a list of lists of lists to a 3D array, and so on)."
      ],
      "metadata": {
        "id": "gk6eUXDZubwF"
      }
    },
    {
      "cell_type": "code",
      "execution_count": null,
      "source": [
        "a = np.array([[1,2,3,4],[5,6,7,8]])\r\n",
        "print(a)"
      ],
      "outputs": [],
      "metadata": {
        "id": "B94ERMmsw-4i"
      }
    },
    {
      "cell_type": "markdown",
      "source": [
        "Unlike Java, numpy does not allow jagged arrays. "
      ],
      "metadata": {
        "id": "opLOpMOvxFQ6"
      }
    },
    {
      "cell_type": "code",
      "execution_count": null,
      "source": [
        "a = np.array([[1,2,3,4],[5,6,7]])\r\n",
        "print(a)"
      ],
      "outputs": [],
      "metadata": {
        "id": "7Tj1MUk0xL0r"
      }
    },
    {
      "cell_type": "markdown",
      "source": [
        "The array type is infered from the data provided"
      ],
      "metadata": {
        "id": "26taW1s8xQfD"
      }
    },
    {
      "cell_type": "code",
      "execution_count": null,
      "source": [
        "a = np.array([[1.5,2,3,4],[5,6,7,8]])\r\n",
        "print(a)"
      ],
      "outputs": [],
      "metadata": {
        "id": "uEpA1FA7xbOr"
      }
    },
    {
      "cell_type": "markdown",
      "source": [
        "The function zeros creates an array full of zeros, the function ones creates an array full of ones, and the function empty creates an array whose initial content is random and depends on the state of the memory. By default, the dtype of the created array is float64."
      ],
      "metadata": {
        "id": "i1QRK33-xhdK"
      }
    },
    {
      "cell_type": "code",
      "execution_count": 2,
      "source": [
        "a = np.zeros(5) # Create 1-D array\r\n",
        "print(a)"
      ],
      "outputs": [
        {
          "output_type": "error",
          "ename": "NameError",
          "evalue": "name 'np' is not defined",
          "traceback": [
            "\u001b[1;31m---------------------------------------------------------------------------\u001b[0m",
            "\u001b[1;31mNameError\u001b[0m                                 Traceback (most recent call last)",
            "\u001b[1;32m~\\AppData\\Local\\Temp/ipykernel_8452/197634300.py\u001b[0m in \u001b[0;36m<module>\u001b[1;34m\u001b[0m\n\u001b[1;32m----> 1\u001b[1;33m \u001b[0ma\u001b[0m \u001b[1;33m=\u001b[0m \u001b[0mnp\u001b[0m\u001b[1;33m.\u001b[0m\u001b[0mzeros\u001b[0m\u001b[1;33m(\u001b[0m\u001b[1;36m5\u001b[0m\u001b[1;33m)\u001b[0m \u001b[1;31m# Create 1-D array\u001b[0m\u001b[1;33m\u001b[0m\u001b[1;33m\u001b[0m\u001b[0m\n\u001b[0m\u001b[0;32m      2\u001b[0m \u001b[0mprint\u001b[0m\u001b[1;33m(\u001b[0m\u001b[0ma\u001b[0m\u001b[1;33m)\u001b[0m\u001b[1;33m\u001b[0m\u001b[1;33m\u001b[0m\u001b[0m\n",
            "\u001b[1;31mNameError\u001b[0m: name 'np' is not defined"
          ]
        }
      ],
      "metadata": {
        "id": "zxTa9B1ox4ou"
      }
    },
    {
      "cell_type": "code",
      "execution_count": null,
      "source": [
        "a = np.zeros((5,3)) # Create 2-D array with 5 rows and 3 colummns\r\n",
        "print(a)"
      ],
      "outputs": [],
      "metadata": {
        "id": "e6YFA4o1yCTR"
      }
    },
    {
      "cell_type": "code",
      "execution_count": null,
      "source": [
        "a = np.ones((2,3)) # Create 2-D array with 2 rows and 3 colummns\r\n",
        "print(a)"
      ],
      "outputs": [],
      "metadata": {
        "id": "IjVd6pzVyKRI"
      }
    },
    {
      "cell_type": "markdown",
      "source": [
        "You can also specify the type"
      ],
      "metadata": {
        "id": "9sFyMIi2yPl4"
      }
    },
    {
      "cell_type": "code",
      "execution_count": null,
      "source": [
        "a = np.ones((2,3),dtype=np.int16) # Create 2-D array of integers with 2 rows and 3 colummns\r\n",
        "print(a)"
      ],
      "outputs": [],
      "metadata": {
        "id": "1m3mXXqWySfJ"
      }
    },
    {
      "cell_type": "markdown",
      "source": [
        "To create sequences of numbers, NumPy provides the arange function which is analogous to the Python built-in range, but returns an array."
      ],
      "metadata": {
        "id": "ZN-MDfKXydZ5"
      }
    },
    {
      "cell_type": "code",
      "execution_count": null,
      "source": [
        "a= np.arange(16)\r\n",
        "print(a)"
      ],
      "outputs": [],
      "metadata": {
        "id": "UpOxj4fFyhgD"
      }
    },
    {
      "cell_type": "code",
      "execution_count": null,
      "source": [
        "a= np.arange(20,100,10)\r\n",
        "print(a)"
      ],
      "outputs": [],
      "metadata": {
        "id": "OTPxhy0_yl-X"
      }
    },
    {
      "cell_type": "markdown",
      "source": [
        "The reshape operation can be used to change the dimensionality of an array (but the number of elements cannot change)."
      ],
      "metadata": {
        "id": "TS1wY6P5y5g_"
      }
    },
    {
      "cell_type": "code",
      "execution_count": null,
      "source": [
        "a= np.arange(20)\r\n",
        "print(a)\r\n",
        "b = a.reshape(4,5)\r\n",
        "print(b)"
      ],
      "outputs": [],
      "metadata": {
        "id": "HmxFl3b2zEu_"
      }
    },
    {
      "cell_type": "code",
      "execution_count": null,
      "source": [
        "a= np.arange(16)\r\n",
        "b = a.reshape(4,5)\r\n",
        "print(b)"
      ],
      "outputs": [],
      "metadata": {
        "id": "tllkQahQzL-v"
      }
    },
    {
      "cell_type": "markdown",
      "source": [
        "If we want to reshape an array to n dimensions, we only need to specify n-1 of the dimensions, since the other can be inferered from the size of the original array. We pass a value of -1 corresponding to the unknown dimension."
      ],
      "metadata": {
        "id": "8mN5-4IsvHNT"
      }
    },
    {
      "cell_type": "code",
      "execution_count": null,
      "source": [
        "a= np.arange(24)\r\n",
        "print(a.reshape(2,12))"
      ],
      "outputs": [],
      "metadata": {
        "id": "bQlr9T5Ev1Hq"
      }
    },
    {
      "cell_type": "code",
      "execution_count": null,
      "source": [
        "print(a.reshape(2,-1))"
      ],
      "outputs": [],
      "metadata": {
        "id": "Kw1nRPPFwBGs"
      }
    },
    {
      "cell_type": "code",
      "execution_count": null,
      "source": [
        "print(a.reshape(-1,12))"
      ],
      "outputs": [],
      "metadata": {
        "id": "MG1y9ZEfwEFw"
      }
    },
    {
      "cell_type": "code",
      "execution_count": null,
      "source": [
        "print(a.reshape(-1,4))"
      ],
      "outputs": [],
      "metadata": {
        "id": "5wlXgmCRwIXX"
      }
    },
    {
      "cell_type": "code",
      "execution_count": null,
      "source": [
        "print(a.reshape(-1,6))"
      ],
      "outputs": [],
      "metadata": {
        "id": "eehfL5qwwLOU"
      }
    },
    {
      "cell_type": "code",
      "execution_count": null,
      "source": [
        "print(a.reshape(-1,8))"
      ],
      "outputs": [],
      "metadata": {
        "id": "aSR8wpFNwQ8L"
      }
    },
    {
      "cell_type": "code",
      "execution_count": null,
      "source": [
        "print(a.reshape(-1,5))"
      ],
      "outputs": [],
      "metadata": {
        "id": "kWxdNj0SwSe3"
      }
    },
    {
      "cell_type": "markdown",
      "source": [
        "**Important:** reshape returns a **shallow** copy of the array, without modifying the original array.\n"
      ],
      "metadata": {
        "id": "Ni1aUyr4zYCX"
      }
    },
    {
      "cell_type": "code",
      "execution_count": null,
      "source": [
        "a= np.arange(16)\r\n",
        "a.reshape(4,4)\r\n",
        "print(a)"
      ],
      "outputs": [],
      "metadata": {
        "id": "jy4vora9zf1_"
      }
    },
    {
      "cell_type": "code",
      "execution_count": null,
      "source": [
        "a= np.arange(16)\r\n",
        "b = a.reshape(4,4)\r\n",
        "print(a)\r\n",
        "print(b)\r\n",
        "a[0] = 9\r\n",
        "print(a)\r\n",
        "print(b)"
      ],
      "outputs": [],
      "metadata": {
        "id": "u7Z5rv3Ywsj3"
      }
    },
    {
      "cell_type": "markdown",
      "source": [
        "a.shape is a tuple (an immutable list) that contains the size of each of the dimensions of array a. len(a.shape) contains the number of dimensions of a."
      ],
      "metadata": {
        "id": "7DLb5RBDasPF"
      }
    },
    {
      "cell_type": "code",
      "execution_count": null,
      "source": [
        "a= np.arange(16)\r\n",
        "print(a)\r\n",
        "print(a.shape)\r\n",
        "print(len(a.shape))\r\n",
        "b = a.reshape(4,4)\r\n",
        "print(b)\r\n",
        "print(b.shape)\r\n",
        "print(len(b.shape))\r\n",
        "c = a.reshape(2,2,4,1)\r\n",
        "print(c)\r\n",
        "print(c.shape)\r\n",
        "print(len(c.shape))"
      ],
      "outputs": [],
      "metadata": {
        "id": "RMuvbnjOat19"
      }
    },
    {
      "cell_type": "markdown",
      "source": [
        "Arithmetic operators on arrays apply elementwise. Usually, there's no need to write for loops to perform array operations!!!"
      ],
      "metadata": {
        "id": "D5A0KLm60OH2"
      }
    },
    {
      "cell_type": "code",
      "execution_count": null,
      "source": [
        "a= np.arange(16).reshape(4,4)\r\n",
        "print(a)\r\n",
        "b = a + 5\r\n",
        "print(b)\r\n",
        "c = a**2\r\n",
        "print(c)\r\n"
      ],
      "outputs": [],
      "metadata": {
        "id": "OA6yITiV0P0e"
      }
    },
    {
      "cell_type": "markdown",
      "source": [
        "Functions are applied elementwise to whole arrays "
      ],
      "metadata": {
        "id": "11OVNqwSxmVu"
      }
    },
    {
      "cell_type": "code",
      "execution_count": null,
      "source": [
        "d = np.sin(a)\r\n",
        "print(d)\r\n"
      ],
      "outputs": [],
      "metadata": {
        "id": "ymzCBFoQxamP"
      }
    },
    {
      "cell_type": "markdown",
      "source": [
        "Integer indexing works the same was as in Java "
      ],
      "metadata": {
        "id": "kExzNadI1jTO"
      }
    },
    {
      "cell_type": "code",
      "execution_count": null,
      "source": [
        "print(a[2,3])\r\n",
        "print(a[0,2])"
      ],
      "outputs": [],
      "metadata": {
        "id": "rV_E5OnT00vH"
      }
    },
    {
      "cell_type": "markdown",
      "source": [
        "As with lists, negative indices (counting from the end) are allowed"
      ],
      "metadata": {
        "id": "v6KWixes13A9"
      }
    },
    {
      "cell_type": "code",
      "execution_count": null,
      "source": [
        "print(a[0,-1])\r\n",
        "print(a[-1,0])"
      ],
      "outputs": [],
      "metadata": {
        "id": "h02CTS2D19rk"
      }
    },
    {
      "cell_type": "markdown",
      "source": [
        "Slicing works the same way as in lists, with one slice per dimension."
      ],
      "metadata": {
        "id": "Ge-SNtNv2SBt"
      }
    },
    {
      "cell_type": "code",
      "execution_count": null,
      "source": [
        "print(a[:2,1:])  # Select rows 0 and 1 and columns 1,2, and 3"
      ],
      "outputs": [],
      "metadata": {
        "id": "aOS1NrPD2ReM"
      }
    },
    {
      "cell_type": "code",
      "execution_count": null,
      "source": [
        "print(a[::2,1::2])  # Select rows 0 and 2 and columns 1 and 3"
      ],
      "outputs": [],
      "metadata": {
        "id": "QtvyF0GG2ogU"
      }
    },
    {
      "cell_type": "code",
      "execution_count": null,
      "source": [
        "print(a[:,::-1])  # Reverse the order of columns"
      ],
      "outputs": [],
      "metadata": {
        "id": "CPryVII52-MM"
      }
    },
    {
      "cell_type": "code",
      "execution_count": null,
      "source": [
        "print(a[::-1,:])  # Reverse the order of rows"
      ],
      "outputs": [],
      "metadata": {
        "id": "hQ2Sw7sv2z0V"
      }
    },
    {
      "cell_type": "code",
      "execution_count": null,
      "source": [
        "print(a[::-1])  # Reverse the order of rows, trailing ':' may be ommited"
      ],
      "outputs": [],
      "metadata": {
        "id": "zUsHKURK3JF8"
      }
    },
    {
      "cell_type": "markdown",
      "source": [
        "We can use lists of the same length as indices"
      ],
      "metadata": {
        "id": "Jo8Jf0Zg3UOV"
      }
    },
    {
      "cell_type": "code",
      "execution_count": null,
      "source": [
        "c = a[[2,3,1],[1,0,3]] # Returns 1-D array containing [a[2,1], a[3,0], a[1,3]]\r\n",
        "print(c)"
      ],
      "outputs": [],
      "metadata": {
        "id": "TcbHkELY3Zkc"
      }
    },
    {
      "cell_type": "markdown",
      "source": [
        "We can assign values to array elements and slices"
      ],
      "metadata": {
        "id": "vB02YnA17B2t"
      }
    },
    {
      "cell_type": "code",
      "execution_count": null,
      "source": [
        "a= np.arange(16).reshape(4,4)\r\n",
        "print(a)\r\n",
        "a[2,3] = -100\r\n",
        "print(a)"
      ],
      "outputs": [],
      "metadata": {
        "id": "2aQdIUDe7hEO"
      }
    },
    {
      "cell_type": "code",
      "execution_count": null,
      "source": [
        "a= np.arange(16).reshape(4,4)\r\n",
        "print(a)\r\n",
        "a[:2,1:] = -100\r\n",
        "print(a)"
      ],
      "outputs": [],
      "metadata": {
        "id": "5lK7umR172OC"
      }
    },
    {
      "cell_type": "markdown",
      "source": [
        "If we omit a trailing  dimension, all elements in that dimension are included in the slice."
      ],
      "metadata": {
        "id": "LWwwXVIfzCzw"
      }
    },
    {
      "cell_type": "markdown",
      "source": [
        "You can perform elementwise operations on array slices if they are the same size"
      ],
      "metadata": {
        "id": "UbFXERWS-Iex"
      }
    },
    {
      "cell_type": "code",
      "execution_count": null,
      "source": [
        "a= np.arange(16).reshape(4,4)\r\n",
        "print(a)\r\n",
        "b = np.arange(6).reshape(2,3)\r\n",
        "print(b)\r\n",
        "a[:2,1:] = a[:2,1:] - b\r\n",
        "print(a)"
      ],
      "outputs": [],
      "metadata": {
        "id": "VW5x_E8h-e6K"
      }
    },
    {
      "cell_type": "markdown",
      "source": [
        "Warning - arrays are passed by reference; array assignments are shallow"
      ],
      "metadata": {
        "id": "SNMUENZJ_e8r"
      }
    },
    {
      "cell_type": "code",
      "execution_count": null,
      "source": [
        "a= np.arange(16).reshape(4,4)\r\n",
        "print(a)\r\n",
        "b = a\r\n",
        "b[0,0] = 2302\r\n",
        "print(a)"
      ],
      "outputs": [],
      "metadata": {
        "id": "4N0Qhuzt_ngj"
      }
    },
    {
      "cell_type": "markdown",
      "source": [
        "This will make a deep copy of a"
      ],
      "metadata": {
        "id": "FFgzt-HgACYS"
      }
    },
    {
      "cell_type": "code",
      "execution_count": null,
      "source": [
        "a= np.arange(16).reshape(4,4)\r\n",
        "print(a)\r\n",
        "b = np.copy(a)\r\n",
        "b[0,0] = 2302\r\n",
        "print(a)\r\n",
        "print(b)\r\n"
      ],
      "outputs": [],
      "metadata": {
        "id": "q8brWVR3_4Rb"
      }
    },
    {
      "cell_type": "markdown",
      "source": [
        "Numpy provides LOTS of array operations. See:\n",
        "https://numpy.org/doc/stable/reference/routines.math.html"
      ],
      "metadata": {
        "id": "17jt9dOZAUIZ"
      }
    },
    {
      "cell_type": "markdown",
      "source": [
        "Commonly use built-in functions:\n"
      ],
      "metadata": {
        "id": "OTcg3FcNqOLL"
      }
    },
    {
      "cell_type": "code",
      "execution_count": null,
      "source": [
        "a = np.array([60,  0, 70, 50, 10, 30, 90, 40, 80, 20])"
      ],
      "outputs": [],
      "metadata": {
        "id": "4Vdbi3p5qS_S"
      }
    },
    {
      "cell_type": "code",
      "execution_count": null,
      "source": [
        "print(np.min(a))"
      ],
      "outputs": [],
      "metadata": {
        "id": "4FJIOXE5qhdA"
      }
    },
    {
      "cell_type": "code",
      "execution_count": null,
      "source": [
        "print(np.max(a))"
      ],
      "outputs": [],
      "metadata": {
        "id": "FE7Dyxe3qvd1"
      }
    },
    {
      "cell_type": "code",
      "execution_count": null,
      "source": [
        "print(np.mean(a))"
      ],
      "outputs": [],
      "metadata": {
        "id": "qp5Ooa8aqzpU"
      }
    },
    {
      "cell_type": "code",
      "execution_count": null,
      "source": [
        "print(np.argmax(a)) # Returns the index of the maximum element in a"
      ],
      "outputs": [],
      "metadata": {
        "id": "KDNG0sVHq3xl"
      }
    },
    {
      "cell_type": "code",
      "execution_count": null,
      "source": [
        "print(np.argmin(a)) # Returns the index of the minimum element in a"
      ],
      "outputs": [],
      "metadata": {
        "id": "uDXRlorirDWY"
      }
    },
    {
      "cell_type": "markdown",
      "source": [
        "Since Python is an interpreted language, loops are slow. See the comparative running time of the same operation with and without loops. "
      ],
      "metadata": {
        "id": "aCVxqc-aAcIR"
      }
    },
    {
      "cell_type": "code",
      "execution_count": null,
      "source": [
        "import time\r\n",
        "\r\n",
        "def sum_array_loops(a,b): \r\n",
        "  c = np.zeros_like(a) \r\n",
        "  for i in range(a.shape[0]):\r\n",
        "    for j in range(a.shape[1]):\r\n",
        "      c[i,j] =  a[i,j] + b[i,j]\r\n",
        "  return c\r\n",
        "\r\n",
        "def sum_array(a,b): \r\n",
        "  c = a +b\r\n",
        "  return c\r\n",
        "  \r\n",
        "size = 2000\r\n",
        "\r\n",
        "a = np.random.random((size,size))\r\n",
        "b = np.random.random((size,size))\r\n",
        "\r\n",
        "start = time.time()\r\n",
        "c = sum_array_loops(a,b)\r\n",
        "elapsed_time1 = time.time() - start\r\n",
        "print('elapsed time using loops', elapsed_time1,'secs')\r\n",
        "\r\n",
        "start = time.time()\r\n",
        "c = sum_array(a,b)\r\n",
        "elapsed_time2 = time.time() - start\r\n",
        "print('elapsed time without loops', elapsed_time2,'secs')\r\n",
        "\r\n",
        "print('ratio',elapsed_time1/elapsed_time2)"
      ],
      "outputs": [],
      "metadata": {
        "id": "Maehku9EA07v"
      }
    },
    {
      "cell_type": "markdown",
      "source": [
        "# **Arrays as indices**"
      ],
      "metadata": {
        "id": "Saa62fly6YJp"
      }
    },
    {
      "cell_type": "markdown",
      "source": [
        "In addition to slicing, we can use arrays as indices to other arrays. The resulting array will have the shape of the index array."
      ],
      "metadata": {
        "id": "QhfqTUpc6cWj"
      }
    },
    {
      "cell_type": "code",
      "execution_count": null,
      "source": [
        "A = np.arange(0,100,10)\r\n",
        "print(A)"
      ],
      "outputs": [],
      "metadata": {
        "id": "STihCyCU6jJp"
      }
    },
    {
      "cell_type": "code",
      "execution_count": null,
      "source": [
        "index = np.arange(4).reshape(2,2)\r\n",
        "print(index)\r\n",
        "print(A[index])"
      ],
      "outputs": [],
      "metadata": {
        "id": "tqDxKxjj6q9u"
      }
    },
    {
      "cell_type": "code",
      "execution_count": null,
      "source": [
        "print(A[np.ones((3,3),dtype=np.int32)])"
      ],
      "outputs": [],
      "metadata": {
        "id": "9xq-HkWW6wJU"
      }
    },
    {
      "cell_type": "markdown",
      "source": [
        "# **Boolean arrays as indices**"
      ],
      "metadata": {
        "id": "wJtKyV5b8EUJ"
      }
    },
    {
      "cell_type": "markdown",
      "source": [
        "When we apply a boolean test to an array A, it returns a boolean array with the same shape as A."
      ],
      "metadata": {
        "id": "Zkc8pfDn8Kte"
      }
    },
    {
      "cell_type": "code",
      "execution_count": null,
      "source": [
        "A = np.arange(20).reshape(4,5)\r\n",
        "B = np.arange(8)\r\n",
        "print(A)\r\n",
        "print(B)"
      ],
      "outputs": [],
      "metadata": {
        "id": "o9M9Qe3s8TzG"
      }
    },
    {
      "cell_type": "code",
      "execution_count": null,
      "source": [
        "print(A>10)"
      ],
      "outputs": [],
      "metadata": {
        "id": "zP5nN9Gg8bIZ"
      }
    },
    {
      "cell_type": "code",
      "execution_count": null,
      "source": [
        "print(B>5)"
      ],
      "outputs": [],
      "metadata": {
        "id": "bFXF-7Zg9Fql"
      }
    },
    {
      "cell_type": "code",
      "execution_count": null,
      "source": [
        "print(A%2==0)"
      ],
      "outputs": [],
      "metadata": {
        "id": "hFiqs7Yg8eIX"
      }
    },
    {
      "cell_type": "code",
      "execution_count": null,
      "source": [
        "print(A%3==1)"
      ],
      "outputs": [],
      "metadata": {
        "id": "qddDagEM8hiR"
      }
    },
    {
      "cell_type": "markdown",
      "source": [
        "A boolean array can be used as an index. Notice that the resulting array is 1D. "
      ],
      "metadata": {
        "id": "hA7tfOsg8nsH"
      }
    },
    {
      "cell_type": "code",
      "execution_count": null,
      "source": [
        "ind = A%2==0\r\n",
        "print(A[ind])"
      ],
      "outputs": [],
      "metadata": {
        "id": "sLe6u14H8rR_"
      }
    },
    {
      "cell_type": "code",
      "execution_count": null,
      "source": [
        "A = np.array([5,1,6,7,9,8,2])\r\n",
        "print(A%2==0)"
      ],
      "outputs": [],
      "metadata": {
        "id": "bQ56Akal7uky"
      }
    },
    {
      "cell_type": "markdown",
      "source": [
        "# **Exercises**\n"
      ],
      "metadata": {
        "id": "rWjHCu4fEJ2q"
      }
    },
    {
      "cell_type": "markdown",
      "source": [
        "Write the function is_square(a) that receives an array a and determines if a is square (that is, is has exactly two dimensions and they have the same size).\r\n"
      ],
      "metadata": {
        "id": "4nd0o5JXs6eq"
      }
    },
    {
      "cell_type": "code",
      "execution_count": null,
      "source": [
        "def is_square(a):\r\n",
        "  return\r\n",
        "  # Your code goes here"
      ],
      "outputs": [],
      "metadata": {
        "id": "tVApLYxltI4P"
      }
    },
    {
      "cell_type": "code",
      "execution_count": null,
      "source": [
        "a = np.arange(16)\r\n",
        "print(a)\r\n",
        "print(is_square(a))\r\n",
        "b = a.reshape(2,8)\r\n",
        "print(b)\r\n",
        "print(is_square(b))\r\n",
        "c = a.reshape(4,4,1)\r\n",
        "print(c)\r\n",
        "print(is_square(c))\r\n",
        "d = a.reshape(4,4)\r\n",
        "print(d)\r\n",
        "print(is_square(d))"
      ],
      "outputs": [],
      "metadata": {
        "id": "JqE3SS-OtQhL"
      }
    },
    {
      "cell_type": "markdown",
      "source": [
        "Write the function replace_max(a,m) that replace the maximum element in a by m. If the maximum occurs multiple times, replace only the first occurrence."
      ],
      "metadata": {
        "id": "L8xyeA74rPkb"
      }
    },
    {
      "cell_type": "code",
      "execution_count": null,
      "source": [
        "def  replace_max(a,m):\r\n",
        "  # Your code goes here"
      ],
      "outputs": [],
      "metadata": {
        "id": "q83nd1a9rcq_"
      }
    },
    {
      "cell_type": "code",
      "execution_count": null,
      "source": [
        "a = np.array([20, 90, 80, 70, 40,  0, 50, 60, 30, 10])\r\n",
        "print(a)\r\n",
        "replace_max(a,-1)\r\n",
        "print(a)"
      ],
      "outputs": [],
      "metadata": {
        "id": "VYxFfl-Prj9B"
      }
    },
    {
      "cell_type": "markdown",
      "source": [
        "Write the function diagonal(a) that receives a square array a and returns a 1D array containing the elements in the diagonal of a (that is [a[0,0], a[1,1], ...)."
      ],
      "metadata": {
        "id": "JSZ_awmar8eJ"
      }
    },
    {
      "cell_type": "code",
      "execution_count": null,
      "source": [
        "def  diagonal(a):\r\n",
        "  # Your code goes here"
      ],
      "outputs": [],
      "metadata": {
        "id": "IR9DbmFusKwa"
      }
    },
    {
      "cell_type": "code",
      "execution_count": null,
      "source": [
        "a = np.array([[10, 70, 40], [ 0, 80, 60], [50, 30, 20]])\n",
        "print(a)\n",
        "print(diagonal(a))"
      ],
      "outputs": [],
      "metadata": {
        "id": "sqeyNxuXsf46"
      }
    },
    {
      "cell_type": "markdown",
      "source": [
        "Write the function multiples(A,n) that returns the number of elements in array A that are multiples of integer n."
      ],
      "metadata": {
        "id": "B0n4kg879QdH"
      }
    },
    {
      "cell_type": "code",
      "execution_count": null,
      "source": [
        "def multiples(A,n):\n",
        "  # Your code goes here"
      ],
      "outputs": [],
      "metadata": {
        "id": "m4z_guCX9b2e"
      }
    },
    {
      "cell_type": "code",
      "execution_count": null,
      "source": [
        "A = np.arange(20).reshape(4,5)\n",
        "B = np.arange(8)\n",
        "print('A=',A)\n",
        "for i in range(1,6):\n",
        "    print('Multiples of',i,'in A:',multiples(A,i))\n",
        "print('B=',B)\n",
        "for i in range(1,6):\n",
        "    print('Multiples of',i,'in B:',multiples(B,i))"
      ],
      "outputs": [],
      "metadata": {
        "id": "OvZ5MV039hfb"
      }
    }
  ]
}