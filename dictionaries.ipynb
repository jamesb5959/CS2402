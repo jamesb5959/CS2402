{
  "cells": [
    {
      "cell_type": "markdown",
      "metadata": {
        "id": "gGkrViZ5xPAg"
      },
      "source": [
        "<b><font size=\"+3\">CS 2302 Data Structures</font></b>\n",
        "\n",
        "**Dictionaries**\n",
        "\n",
        "**Author:** [Olac Fuentes](http://www.cs.utep.edu/ofuentes/)<br>\n",
        "**Last modified:** 2021/10/7<br>\n",
        "Please report errors to me. "
      ]
    },
    {
      "cell_type": "markdown",
      "metadata": {
        "id": "9TnKnmuDGGph"
      },
      "source": [
        "Sets allow us to perform insertions, deletions, and membership queries in constant time. \n",
        "\n",
        "Dictionaries are another data stucture that uses hash tables to perform operations efficiently.\n",
        "\n",
        "A dictionary is a Python container used to describe associative relationships. A dictionary is represented by the dict object type. A dictionary associates (or \"maps\") keys with values. A key is a term that can be located in a dictionary, such as the word \"cat\" in the English dictionary. A value describes some data associated with a key, such as a definition. A key can be any immutable type, such as a integer, floating point number, or string; a value can be any type."
      ]
    },
    {
      "cell_type": "markdown",
      "metadata": {
        "id": "hNgOiDkQyaLl"
      },
      "source": [
        "Building a dictionary\n",
        "\n",
        "We can create an empty dictionary as follows:"
      ]
    },
    {
      "cell_type": "code",
      "execution_count": null,
      "metadata": {
        "id": "b8OgOlxEylHs"
      },
      "outputs": [],
      "source": [
        "D= {}"
      ]
    },
    {
      "cell_type": "markdown",
      "metadata": {
        "id": "Nb7v2pgOyoQD"
      },
      "source": [
        "To add a key, value pair, to the dictionary, we do: D[key] = value"
      ]
    },
    {
      "cell_type": "code",
      "execution_count": null,
      "metadata": {
        "id": "FdzrVVxsy85S"
      },
      "outputs": [],
      "source": [
        "D[2302] = 'Python'\n",
        "D[2401] = 'Java'\n",
        "D[1301] = 'Java'"
      ]
    },
    {
      "cell_type": "code",
      "execution_count": null,
      "metadata": {
        "id": "n1Wx9DFQ0R7y"
      },
      "outputs": [],
      "source": [
        "D"
      ]
    },
    {
      "cell_type": "markdown",
      "metadata": {
        "id": "vPtjFctZ0e4_"
      },
      "source": [
        "keys must be unique but two different keys may have the same value, as shown above."
      ]
    },
    {
      "cell_type": "markdown",
      "metadata": {
        "id": "7RwTBPxD0mTm"
      },
      "source": [
        "If we assign a value to a key that is already in the dictionary, its value is changed."
      ]
    },
    {
      "cell_type": "code",
      "execution_count": null,
      "metadata": {
        "id": "OLqrhJmR0wgF"
      },
      "outputs": [],
      "source": [
        "D[1301] = 'C'"
      ]
    },
    {
      "cell_type": "code",
      "execution_count": null,
      "metadata": {
        "id": "VM8jD9z000Lh"
      },
      "outputs": [],
      "source": [
        "D"
      ]
    },
    {
      "cell_type": "markdown",
      "metadata": {
        "id": "_kRmgr5K1B5J"
      },
      "source": [
        "We can retrieve the keys in a dictionary using the keys function"
      ]
    },
    {
      "cell_type": "code",
      "execution_count": null,
      "metadata": {
        "id": "_-PwvoXe1Omz"
      },
      "outputs": [],
      "source": [
        "D.keys()"
      ]
    },
    {
      "cell_type": "markdown",
      "metadata": {
        "id": "azdr0z1Y1R7x"
      },
      "source": [
        "We can test if a key is in a dictionary in the same way we check for list and set membership."
      ]
    },
    {
      "cell_type": "code",
      "execution_count": null,
      "metadata": {
        "id": "7-XYke5E1Rob"
      },
      "outputs": [],
      "source": [
        "2302 in D.keys()"
      ]
    },
    {
      "cell_type": "code",
      "execution_count": null,
      "metadata": {
        "id": "cQBThLZm1euc"
      },
      "outputs": [],
      "source": [
        "3331 in D.keys()"
      ]
    },
    {
      "cell_type": "markdown",
      "metadata": {
        "id": "gPaJuZ9D1_Fd"
      },
      "source": [
        "We remove a key,value pair from a dictionary using the del operation\n",
        "\n",
        "---\n",
        "\n"
      ]
    },
    {
      "cell_type": "code",
      "execution_count": null,
      "metadata": {
        "id": "MEpJDUV62lRd"
      },
      "outputs": [],
      "source": [
        "del D[2302]"
      ]
    },
    {
      "cell_type": "code",
      "execution_count": null,
      "metadata": {
        "id": "ArskwUyG2pap"
      },
      "outputs": [],
      "source": [
        "D"
      ]
    },
    {
      "cell_type": "markdown",
      "metadata": {
        "id": "9e2iiq7d2t3x"
      },
      "source": [
        "If we try to delete a key that is not in the dictionary, we get an error.\n"
      ]
    },
    {
      "cell_type": "code",
      "execution_count": null,
      "metadata": {
        "id": "9mcWXJlZ27uo"
      },
      "outputs": [],
      "source": [
        "del D[2302]"
      ]
    },
    {
      "cell_type": "markdown",
      "metadata": {
        "id": "KZkPq25wsd8n"
      },
      "source": [
        "We can build dictionaries using comprehension:"
      ]
    },
    {
      "cell_type": "code",
      "execution_count": null,
      "metadata": {
        "id": "uvtGOWXcshQj"
      },
      "outputs": [],
      "source": [
        "square = {i:i**2 for i in range(13)}\n",
        "print(square)"
      ]
    },
    {
      "cell_type": "code",
      "execution_count": null,
      "metadata": {
        "id": "GpYDG26StASE"
      },
      "outputs": [],
      "source": [
        "for i in range(13):\n",
        "  print(i, square[i])"
      ]
    },
    {
      "cell_type": "code",
      "execution_count": null,
      "metadata": {
        "id": "7eavl3aytPEf"
      },
      "outputs": [],
      "source": [
        "square = {i:i**2 for i in [1,2,4,8,16,32,64]}\n",
        "print(square)"
      ]
    },
    {
      "cell_type": "code",
      "execution_count": null,
      "metadata": {
        "id": "uY3cPa4GtiWU"
      },
      "outputs": [],
      "source": [
        "square = {i:i**2 for i in [9,1,2,6,4,5,0,7,8] if i%2 == 0}\n",
        "print(square)"
      ]
    },
    {
      "cell_type": "markdown",
      "metadata": {
        "id": "IwK37nwxsEXg"
      },
      "source": [
        "Like set operations, dictionary operations use hashing, thus they are very efficient.\n"
      ]
    },
    {
      "cell_type": "code",
      "execution_count": null,
      "metadata": {
        "id": "SR5KkCPXsPq2"
      },
      "outputs": [],
      "source": [
        "import time\n",
        "\n",
        "n=50000\n",
        "L = np.random.permutation(n)\n",
        "\n",
        "start = time.time()\n",
        "for i in range(2*n):\n",
        "  t = i in L # Check membership and store in variable\n",
        "elapsed_time1 = time.time() - start\n",
        "print('elapsed time using list', elapsed_time1,'secs')\n",
        "\n",
        "D = {i:' ' for i in L}\n",
        "\n",
        "start = time.time()\n",
        "for i in range(2*n):\n",
        "  t = i in D.keys()  # Check membership and store in variable\n",
        "elapsed_time2 = time.time() - start\n",
        "print('elapsed time using dictionary', elapsed_time2,'secs')\n",
        "\n",
        "print('ratio',elapsed_time1/elapsed_time2)"
      ]
    },
    {
      "cell_type": "markdown",
      "metadata": {
        "id": "Xzr-CqkZqzYU"
      },
      "source": [
        "**Example:** The following code constructs a dictionary where a country's name is the key and its capital is the value. "
      ]
    },
    {
      "cell_type": "code",
      "execution_count": null,
      "metadata": {
        "id": "Ot_8GjvTGCnw"
      },
      "outputs": [],
      "source": [
        "countries = ['Russia','Canada', 'USA', 'Brazil', 'Australia', 'China','Spain','France']\n",
        "capitals = ['Moscow','Ottawa', 'Washington', 'Brasilia', 'Canberra', 'Beijing','Madrid','Paris']\n",
        "  \n",
        "cap_dict ={} # Create empty dictionary\n",
        "\n",
        "for i in range(len(countries)):\n",
        "  cap_dict[countries[i]] = capitals[i]\n"
      ]
    },
    {
      "cell_type": "code",
      "execution_count": null,
      "metadata": {
        "id": "u_9GtTopqt-X"
      },
      "outputs": [],
      "source": [
        "cap_dict"
      ]
    },
    {
      "cell_type": "markdown",
      "metadata": {
        "id": "p9B0ufCSq-3A"
      },
      "source": [
        "Now to retrieve the value given the key, we do the following:"
      ]
    },
    {
      "cell_type": "code",
      "execution_count": null,
      "metadata": {
        "id": "t10Z-s6ErGmv"
      },
      "outputs": [],
      "source": [
        "print(cap_dict['France'])"
      ]
    },
    {
      "cell_type": "code",
      "execution_count": null,
      "metadata": {
        "id": "gUVJrVrurNDJ"
      },
      "outputs": [],
      "source": [
        "print(cap_dict['Russia'])"
      ]
    },
    {
      "cell_type": "code",
      "execution_count": null,
      "metadata": {
        "id": "b50AxksJrl4m"
      },
      "outputs": [],
      "source": [
        "cap_dict.keys()"
      ]
    },
    {
      "cell_type": "markdown",
      "metadata": {
        "id": "aucgF_cPyVuH"
      },
      "source": [
        "**Exercise:** Write a function that receives a list and builds a dictionary containing the position in the list where every item first appeared. \n",
        "\n",
        "For example, if first_occurrence is the name of your dictionary  and L = [0,2,3,0,1,3,3], first_occurrence[0]  should be 0 and first_occurrence[3]  should be 2.\n",
        "\n"
      ]
    },
    {
      "cell_type": "code",
      "execution_count": null,
      "metadata": {
        "id": "1r7hnN7wfmuw"
      },
      "outputs": [],
      "source": [
        "def first_occurrence(L):\n",
        "  D ={}\n",
        "  for i in range(len(L)):\n",
        "    if L[i] not in D.keys():\n",
        "      D[L[i]] = i\n",
        "  return D\n",
        "    "
      ]
    },
    {
      "cell_type": "code",
      "execution_count": 1,
      "metadata": {
        "id": "hzXf8bG-KvDt"
      },
      "outputs": [
        {
          "name": "stdout",
          "output_type": "stream",
          "text": [
            "[7, 0, 0, 8, 5, 3, 8, 2, 2, 0, 8, 5, 6, 5, 9, 8, 8, 2, 1, 1, 7, 1, 9, 6, 7, 3, 4, 6, 4, 7, 6, 1, 1, 2, 9, 6, 3, 5, 3, 4, 0, 9, 4, 5, 3, 7, 9, 4, 0, 2]\n"
          ]
        },
        {
          "ename": "NameError",
          "evalue": "name 'first_occurrence' is not defined",
          "output_type": "error",
          "traceback": [
            "\u001b[1;31m---------------------------------------------------------------------------\u001b[0m",
            "\u001b[1;31mNameError\u001b[0m                                 Traceback (most recent call last)",
            "\u001b[1;32m~\\AppData\\Local\\Temp/ipykernel_15888/1595226377.py\u001b[0m in \u001b[0;36m<module>\u001b[1;34m\u001b[0m\n\u001b[0;32m      3\u001b[0m \u001b[0mprint\u001b[0m\u001b[1;33m(\u001b[0m\u001b[0mL\u001b[0m\u001b[1;33m)\u001b[0m\u001b[1;33m\u001b[0m\u001b[1;33m\u001b[0m\u001b[0m\n\u001b[0;32m      4\u001b[0m \u001b[1;33m\u001b[0m\u001b[0m\n\u001b[1;32m----> 5\u001b[1;33m \u001b[0mD\u001b[0m \u001b[1;33m=\u001b[0m \u001b[0mfirst_occurrence\u001b[0m\u001b[1;33m(\u001b[0m\u001b[0mL\u001b[0m\u001b[1;33m)\u001b[0m\u001b[1;33m\u001b[0m\u001b[1;33m\u001b[0m\u001b[0m\n\u001b[0m\u001b[0;32m      6\u001b[0m \u001b[1;32mfor\u001b[0m \u001b[0mi\u001b[0m \u001b[1;32min\u001b[0m \u001b[0mset\u001b[0m\u001b[1;33m(\u001b[0m\u001b[0mL\u001b[0m\u001b[1;33m)\u001b[0m\u001b[1;33m:\u001b[0m\u001b[1;33m\u001b[0m\u001b[1;33m\u001b[0m\u001b[0m\n\u001b[0;32m      7\u001b[0m   \u001b[0mprint\u001b[0m\u001b[1;33m(\u001b[0m\u001b[1;34m'first occurrence of {} at index {}'\u001b[0m\u001b[1;33m.\u001b[0m\u001b[0mformat\u001b[0m\u001b[1;33m(\u001b[0m\u001b[0mi\u001b[0m\u001b[1;33m,\u001b[0m\u001b[0mD\u001b[0m\u001b[1;33m[\u001b[0m\u001b[0mi\u001b[0m\u001b[1;33m]\u001b[0m\u001b[1;33m)\u001b[0m\u001b[1;33m)\u001b[0m\u001b[1;33m\u001b[0m\u001b[1;33m\u001b[0m\u001b[0m\n",
            "\u001b[1;31mNameError\u001b[0m: name 'first_occurrence' is not defined"
          ]
        }
      ],
      "source": [
        "import numpy as np\n",
        "L = list(np.random.permutation(50)%10)\n",
        "print(L)\n",
        "\n",
        "D = first_occurrence(L)\n",
        "for i in set(L):\n",
        "  print('first occurrence of {} at index {}'.format(i,D[i]))"
      ]
    }
  ],
  "metadata": {
    "colab": {
      "collapsed_sections": [],
      "name": "dictionaries.ipynb",
      "provenance": []
    },
    "interpreter": {
      "hash": "22d9742e846c5b2e6352a52abbfdb0eaab0b509899a61abbfb2417673253b584"
    },
    "kernelspec": {
      "display_name": "Python 3.9.6 64-bit",
      "name": "python3"
    },
    "language_info": {
      "codemirror_mode": {
        "name": "ipython",
        "version": 3
      },
      "file_extension": ".py",
      "mimetype": "text/x-python",
      "name": "python",
      "nbconvert_exporter": "python",
      "pygments_lexer": "ipython3",
      "version": "3.9.6"
    }
  },
  "nbformat": 4,
  "nbformat_minor": 0
}
